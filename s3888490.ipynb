{
 "cells": [
  {
   "cell_type": "markdown",
   "id": "bc87c689",
   "metadata": {},
   "source": [
    "# Classify Images of Road Traffc Signs\n",
    "### Name: Luke Macdonald\n",
    "\n",
    "### ID:  s3888490\n",
    "\n",
    "## Table of Contents\n",
    "* [Introduction](#itr)\n",
    "* [Designing the Model](#design)\n",
    "* [Classifying Images According to Shape](#shape)\n",
    "  + [Baseline Model](#shapeB)\n",
    "  + [Data Augmented Model](#shapeA)\n",
    "* [Classifying Images According to Sign Type](#type)\n",
    "  + [Baseline Model](#typeB)\n",
    "  + [Data Augmented Model](#typeA)\n",
    "* [Performance on test set (Unseen data)](#test)\n",
    "* [References](#ref)\n",
    "\n",
    "## Introduction  <a class=\"anchor\" id=\"itr\"></a>\n",
    "### Aim of Project\n",
    "\n",
    "The aim of this project is to complete the machine learning model building process that will be used to classify road traffic signs images according to their shape and sign type. This will be done by using a modified dataset of the Belgium Traffucc Sign Classification Benchmark dataset to train a model to be able to recognise the different types of signs. The images in the dataset are divided up in two ways, first by the shape of the sign (diamond,hex, etc) and then by the type of sign (stop, speed, etc), the purpose of this machine learning model is to be able to classify and image according to both its shape and sign type\n",
    "\n",
    "<img src = \"https://encrypted-tbn0.gstatic.com/images?q=tbn:ANd9GcSdUBpakcz9zspOii-Dl83pcwksmpT2RNVP6g&usqp=CAU\" width = 60%>\n",
    "\n",
    "### Sign Shapes Include:\n",
    "- diamond, \n",
    "- hex, \n",
    "- rectangle, \n",
    "- round, \n",
    "- triangle.\n",
    "\n",
    "### Sign Types Include:\n",
    "- stop, \n",
    "- speed, \n",
    "- warning, \n",
    "- parking,\n",
    "- rightofway,\n",
    "- bicycle,\n",
    "- limitedtraffic,\n",
    "- noentry,\n",
    "- noparking,\n",
    "- roundabout,\n",
    "- trafficdirective,\n",
    "- trafficdirection,\n",
    "- continue,\n",
    "- rossing,\n",
    "- laneend,\n",
    "- giveway"
   ]
  },
  {
   "cell_type": "markdown",
   "id": "c3742a75",
   "metadata": {},
   "source": [
    "#### Import required packages."
   ]
  },
  {
   "cell_type": "code",
   "execution_count": 1,
   "id": "3baef15c",
   "metadata": {},
   "outputs": [],
   "source": [
    "import tensorflow as tf\n",
    "AUTOTUNE = tf.data.experimental.AUTOTUNE\n",
    "import IPython.display as display\n",
    "from PIL import Image\n",
    "import numpy as np\n",
    "import matplotlib.pyplot as plt\n",
    "import os\n",
    "import pandas as pd\n",
    "from tensorflow.keras.preprocessing.image import ImageDataGenerator"
   ]
  },
  {
   "cell_type": "markdown",
   "id": "f3373db2",
   "metadata": {},
   "source": [
    "#### Import dataset"
   ]
  },
  {
   "cell_type": "code",
   "execution_count": 2,
   "id": "0b5d2b93",
   "metadata": {},
   "outputs": [],
   "source": [
    "from PIL import Image\n",
    "import glob\n",
    "val_shapes = ['diamond', 'hex', 'round', 'square', 'triange']\n",
    "image_list = []\n",
    "for filepath in glob.glob('./trafficsigns_dataset/*/*/*.png', recursive=True): #assuming gif\n",
    "    filename = filepath.split(\"/\")[-1]\n",
    "    shape = filepath.split(\"/\")[-3]\n",
    "    sign_type = filepath.split(\"/\")[-2]\n",
    "    label = filename.split(\"/\")[0]\n",
    "    image_list.append((filepath, shape, sign_type,filename))"
   ]
  },
  {
   "cell_type": "code",
   "execution_count": 3,
   "id": "8a217dff",
   "metadata": {},
   "outputs": [],
   "source": [
    "data = pd.DataFrame(data=image_list, columns=['image_path', 'Shape', 'Type','Label'])"
   ]
  },
  {
   "cell_type": "code",
   "execution_count": 4,
   "id": "a3f32990",
   "metadata": {},
   "outputs": [
    {
     "data": {
      "text/html": [
       "<div>\n",
       "<style scoped>\n",
       "    .dataframe tbody tr th:only-of-type {\n",
       "        vertical-align: middle;\n",
       "    }\n",
       "\n",
       "    .dataframe tbody tr th {\n",
       "        vertical-align: top;\n",
       "    }\n",
       "\n",
       "    .dataframe thead th {\n",
       "        text-align: right;\n",
       "    }\n",
       "</style>\n",
       "<table border=\"1\" class=\"dataframe\">\n",
       "  <thead>\n",
       "    <tr style=\"text-align: right;\">\n",
       "      <th></th>\n",
       "      <th>image_path</th>\n",
       "      <th>Shape</th>\n",
       "      <th>Type</th>\n",
       "      <th>Label</th>\n",
       "      <th>shape_num</th>\n",
       "      <th>type_num</th>\n",
       "    </tr>\n",
       "  </thead>\n",
       "  <tbody>\n",
       "    <tr>\n",
       "      <th>0</th>\n",
       "      <td>./trafficsigns_dataset/diamond/rightofway/0003...</td>\n",
       "      <td>diamond</td>\n",
       "      <td>rightofway</td>\n",
       "      <td>00039_00001.png</td>\n",
       "      <td>0</td>\n",
       "      <td>9</td>\n",
       "    </tr>\n",
       "    <tr>\n",
       "      <th>1</th>\n",
       "      <td>./trafficsigns_dataset/diamond/rightofway/0180...</td>\n",
       "      <td>diamond</td>\n",
       "      <td>rightofway</td>\n",
       "      <td>01803_00002.png</td>\n",
       "      <td>0</td>\n",
       "      <td>9</td>\n",
       "    </tr>\n",
       "    <tr>\n",
       "      <th>2</th>\n",
       "      <td>./trafficsigns_dataset/diamond/rightofway/0170...</td>\n",
       "      <td>diamond</td>\n",
       "      <td>rightofway</td>\n",
       "      <td>01702_00000.png</td>\n",
       "      <td>0</td>\n",
       "      <td>9</td>\n",
       "    </tr>\n",
       "    <tr>\n",
       "      <th>3</th>\n",
       "      <td>./trafficsigns_dataset/diamond/rightofway/0011...</td>\n",
       "      <td>diamond</td>\n",
       "      <td>rightofway</td>\n",
       "      <td>00111_00001.png</td>\n",
       "      <td>0</td>\n",
       "      <td>9</td>\n",
       "    </tr>\n",
       "    <tr>\n",
       "      <th>4</th>\n",
       "      <td>./trafficsigns_dataset/diamond/rightofway/0123...</td>\n",
       "      <td>diamond</td>\n",
       "      <td>rightofway</td>\n",
       "      <td>01231_00003.png</td>\n",
       "      <td>0</td>\n",
       "      <td>9</td>\n",
       "    </tr>\n",
       "    <tr>\n",
       "      <th>...</th>\n",
       "      <td>...</td>\n",
       "      <td>...</td>\n",
       "      <td>...</td>\n",
       "      <td>...</td>\n",
       "      <td>...</td>\n",
       "      <td>...</td>\n",
       "    </tr>\n",
       "    <tr>\n",
       "      <th>3694</th>\n",
       "      <td>./trafficsigns_dataset/round/trafficdirective/...</td>\n",
       "      <td>round</td>\n",
       "      <td>trafficdirective</td>\n",
       "      <td>00630_00001.png</td>\n",
       "      <td>2</td>\n",
       "      <td>13</td>\n",
       "    </tr>\n",
       "    <tr>\n",
       "      <th>3695</th>\n",
       "      <td>./trafficsigns_dataset/round/trafficdirective/...</td>\n",
       "      <td>round</td>\n",
       "      <td>trafficdirective</td>\n",
       "      <td>01916_00002.png</td>\n",
       "      <td>2</td>\n",
       "      <td>13</td>\n",
       "    </tr>\n",
       "    <tr>\n",
       "      <th>3696</th>\n",
       "      <td>./trafficsigns_dataset/round/trafficdirective/...</td>\n",
       "      <td>round</td>\n",
       "      <td>trafficdirective</td>\n",
       "      <td>00701_00002.png</td>\n",
       "      <td>2</td>\n",
       "      <td>13</td>\n",
       "    </tr>\n",
       "    <tr>\n",
       "      <th>3697</th>\n",
       "      <td>./trafficsigns_dataset/round/trafficdirective/...</td>\n",
       "      <td>round</td>\n",
       "      <td>trafficdirective</td>\n",
       "      <td>00465_00002.png</td>\n",
       "      <td>2</td>\n",
       "      <td>13</td>\n",
       "    </tr>\n",
       "    <tr>\n",
       "      <th>3698</th>\n",
       "      <td>./trafficsigns_dataset/round/trafficdirective/...</td>\n",
       "      <td>round</td>\n",
       "      <td>trafficdirective</td>\n",
       "      <td>00909_00001.png</td>\n",
       "      <td>2</td>\n",
       "      <td>13</td>\n",
       "    </tr>\n",
       "  </tbody>\n",
       "</table>\n",
       "<p>3699 rows × 6 columns</p>\n",
       "</div>"
      ],
      "text/plain": [
       "                                             image_path    Shape  \\\n",
       "0     ./trafficsigns_dataset/diamond/rightofway/0003...  diamond   \n",
       "1     ./trafficsigns_dataset/diamond/rightofway/0180...  diamond   \n",
       "2     ./trafficsigns_dataset/diamond/rightofway/0170...  diamond   \n",
       "3     ./trafficsigns_dataset/diamond/rightofway/0011...  diamond   \n",
       "4     ./trafficsigns_dataset/diamond/rightofway/0123...  diamond   \n",
       "...                                                 ...      ...   \n",
       "3694  ./trafficsigns_dataset/round/trafficdirective/...    round   \n",
       "3695  ./trafficsigns_dataset/round/trafficdirective/...    round   \n",
       "3696  ./trafficsigns_dataset/round/trafficdirective/...    round   \n",
       "3697  ./trafficsigns_dataset/round/trafficdirective/...    round   \n",
       "3698  ./trafficsigns_dataset/round/trafficdirective/...    round   \n",
       "\n",
       "                  Type            Label  shape_num  type_num  \n",
       "0           rightofway  00039_00001.png          0         9  \n",
       "1           rightofway  01803_00002.png          0         9  \n",
       "2           rightofway  01702_00000.png          0         9  \n",
       "3           rightofway  00111_00001.png          0         9  \n",
       "4           rightofway  01231_00003.png          0         9  \n",
       "...                ...              ...        ...       ...  \n",
       "3694  trafficdirective  00630_00001.png          2        13  \n",
       "3695  trafficdirective  01916_00002.png          2        13  \n",
       "3696  trafficdirective  00701_00002.png          2        13  \n",
       "3697  trafficdirective  00465_00002.png          2        13  \n",
       "3698  trafficdirective  00909_00001.png          2        13  \n",
       "\n",
       "[3699 rows x 6 columns]"
      ]
     },
     "execution_count": 4,
     "metadata": {},
     "output_type": "execute_result"
    }
   ],
   "source": [
    "d = {'diamond':0, 'hex':1, 'round':2, 'square':3,'triangle':4}\n",
    "\n",
    "data['shape_num'] = data['Shape'].map(d, na_action='ignore')\n",
    "\n",
    " \n",
    "label_names = {'bicycle' : 0,'continue':1,'crossing':2,'giveway':3,'laneend':4,'limitedtraffic' : 5,'noentry' : 6,\n",
    "               'noparking': 7,'parking':8,'rightofway' : 9,'roundabout':10,'speed': 11,'stop' : 12,\n",
    "               'trafficdirective':13,'traveldirection':14,'warning':15}\n",
    "\n",
    "data['type_num'] = data['Type'].map(label_names, na_action='ignore')\n",
    "data"
   ]
  },
  {
   "cell_type": "code",
   "execution_count": 5,
   "id": "aa247b4b",
   "metadata": {},
   "outputs": [
    {
     "name": "stdout",
     "output_type": "stream",
     "text": [
      "Train data : 2219, Val Data: 740, Test Data: 740\n"
     ]
    }
   ],
   "source": [
    "from sklearn.model_selection import train_test_split\n",
    "train_data, test_data = train_test_split(data, test_size=0.2, random_state=42)\n",
    "train_data, val_data = train_test_split(train_data, test_size=0.25, random_state=42)\n",
    "\n",
    "print(\"Train data : {}, Val Data: {}, Test Data: {}\".format(train_data.shape[0], val_data.shape[0], test_data.shape[0]))"
   ]
  },
  {
   "cell_type": "code",
   "execution_count": 6,
   "id": "1e38fc65",
   "metadata": {},
   "outputs": [
    {
     "data": {
      "image/png": "[encoded data removed]",
      "text/plain": [
       "<Figure size 1152x288 with 4 Axes>"
      ]
     },
     "metadata": {
      "needs_background": "light"
     },
     "output_type": "display_data"
    }
   ],
   "source": [
    "r_inx = np.random.choice(3000, 4)\n",
    "rand_data = data.loc[r_inx,'image_path']\n",
    "\n",
    "plt.figure(figsize=(16,4))\n",
    "for i, image_path in enumerate(rand_data):\n",
    "    im = np.asarray(Image.open(image_path))\n",
    "    plt.subplot(1,4,i+1)\n",
    "    plt.imshow(im,cmap='gray')\n",
    "    plt.axis('off')\n",
    "    \n",
    "plt.show()"
   ]
  },
  {
   "cell_type": "markdown",
   "id": "1fa2cf31",
   "metadata": {},
   "source": [
    "## Designing the Model  <a class=\"anchor\" id=\"design\"></a>\n",
    "A convolution neural network which is a class of neural network is the algorithm that is going to be used to train a model to be able to successfully recognise and classify an image of a road sign according to both its shape and sign type.\n",
    "<img src = https://cdn.discuss.boardinfinity.com/original/2X/1/1f1bf9539699c880b33f978e724f803ef8197f6f.png width = 80%>\n",
    "\n",
    "The CNN architectuire is made up of several layers\n",
    "1. <b>Input Layer:</b> The input layer for this model is the raw pixel values of an image represented as a 3D matrix\n",
    " - Dimensions of the Matrix are $Width \\times Depth \\times Height$\n",
    "     - Height is the number of pixels along the vertical axis\n",
    "     - Width is the number of pixels along the horiztonal axis\n",
    "     - Depth corresponds to the colour changes (RBG) in the image. However, for the data provided the images have been greyscaled therefore the size of their depth is one.\n",
    "2. <b>Convolutional Layer</b>\n",
    "3. <b>Activation Layer:</b> An activation function in a neural network defines how the weighted sum of the input is transformed into an output from a node or nodes in a layer of the network. The activiation determines the relevancy of a given node(s) and if a node is found to be relevant by the model, than that node will \"fire\" after passing through the activiation function. There are multiple types of activation function:\n",
    "    - ReLU\n",
    "    - Sigmoid Function\n",
    "    - tanh\n",
    "\n",
    "4. <b>Pooling Layer:</b> Pooling in CNN's is used for generalizing features that have been extracted by convolutional filters and for helping the network recognize features independent of their location in the image. The method of pooling is very similar to convolution procedure itself. A filter of a certain size (for this report the size of filter is 2x2) is selected and then slide it over the output feature map of the convolution layer. There are two main types of pooling methods.\n",
    "    - Max Pooling: The filter selects the maximum pixel value in the field (this is the method that is going to be used in the trained model for classifying road sign images)\n",
    "    - Average Pooling: The filter calculates the average of all the pixel values in the field.\n",
    "\n",
    "5. <b>Fully-Connected Layer:</b>\n",
    "\n",
    "\n",
    "### Tuning of Hyperparameters \n",
    "The hyperparameters in the convolution layer of the CNN that will need to be tuned are the stride and padding paramters.\n",
    "- Stride: Refers to the number of pixels by which the filter moves across after each operation. Stride is used in both the convoluntial and pooling operations and for these models the stride is going t be set to\n",
    "- Padding\n",
    "- Parameter Sharing\n",
    "\n",
    "#### Activiation Layer\n",
    " - Filter Activations: Feature Maps\n",
    " - Activiation Function\n",
    "\n",
    "#### Pooling Layer\n",
    "\n",
    "#### Fully Connected Layer"
   ]
  },
  {
   "cell_type": "code",
   "execution_count": 48,
   "id": "399daef9",
   "metadata": {},
   "outputs": [],
   "source": [
    "train_datagen = ImageDataGenerator(rescale=1./255, data_format='channels_last')\n",
    "val_datagen = ImageDataGenerator(rescale=1./255, data_format='channels_last')"
   ]
  },
  {
   "cell_type": "code",
   "execution_count": 40,
   "id": "d4ad3b83",
   "metadata": {},
   "outputs": [],
   "source": [
    "import matplotlib.pyplot as plt\n",
    "def plot_learning_curve(train_loss, val_loss, train_metric, val_metric, metric_name='Accuracy'):\n",
    "    plt.figure(figsize=(10,5))\n",
    "    \n",
    "    plt.subplot(1,2,1)\n",
    "    plt.plot(train_loss, 'r--')\n",
    "    plt.plot(val_loss, 'b--')\n",
    "    plt.xlabel(\"epochs\")\n",
    "    plt.ylabel(\"Loss\")\n",
    "    plt.legend(['train', 'val'], loc='upper left')\n",
    "\n",
    "    plt.subplot(1,2,2)\n",
    "    plt.plot(train_metric, 'r--')\n",
    "    plt.plot(val_metric, 'b--')\n",
    "    plt.xlabel(\"epochs\")\n",
    "    plt.ylabel(metric_name)\n",
    "    plt.legend(['train', 'val'], loc='upper left')\n",
    "\n",
    "    plt.show()"
   ]
  },
  {
   "cell_type": "markdown",
   "id": "d1e63d90",
   "metadata": {},
   "source": [
    "## Setting Up Augmented Model\n",
    "Due to the small proportion of data avaiable to train the model, a method is avaiable to make random changes to the data provided (E.g. rotating the image) to increase the diversity of the dataset. This method is called data augmentation.\n",
    "\n",
    "Data Augmentations increase the variance of the training data in a variety of ways, including: random rotation, increase/decreasing brightness, shifting object positions, and horizontally/vertically flipping images."
   ]
  },
  {
   "cell_type": "markdown",
   "id": "fd0d88c5",
   "metadata": {},
   "source": [
    "# Classifying Images According to Shape  <a class=\"anchor\" id=\"shape\"></a>"
   ]
  },
  {
   "cell_type": "markdown",
   "id": "17a361bd",
   "metadata": {},
   "source": [
    "## Baseline Model  <a class=\"anchor\" id=\"shapeB\"></a>"
   ]
  },
  {
   "cell_type": "markdown",
   "id": "3a9fd37b",
   "metadata": {},
   "source": [
    "### Setting up Data Loaders"
   ]
  },
  {
   "cell_type": "code",
   "execution_count": 36,
   "id": "dd3adfdc",
   "metadata": {},
   "outputs": [
    {
     "name": "stdout",
     "output_type": "stream",
     "text": [
      "Found 2219 validated image filenames belonging to 5 classes.\n",
      "Found 740 validated image filenames belonging to 5 classes.\n"
     ]
    }
   ],
   "source": [
    "from tensorflow.keras.preprocessing.image import ImageDataGenerator\n",
    "\n",
    "train_datagen = ImageDataGenerator(rescale=1./255, data_format='channels_last')\n",
    "val_datagen = ImageDataGenerator(rescale=1./255, data_format='channels_last')\n",
    "\n",
    "batch_size = 32\n",
    "\n",
    "train_generator = train_datagen.flow_from_dataframe(\n",
    "        dataframe=train_data,\n",
    "        directory='./',\n",
    "        x_col=\"image_path\",\n",
    "        y_col=\"Shape\",\n",
    "        target_size=(28, 28),\n",
    "        batch_size=batch_size,\n",
    "        class_mode='categorical')\n",
    "\n",
    "validation_generator = val_datagen.flow_from_dataframe(\n",
    "        dataframe=val_data,\n",
    "        directory='./',\n",
    "        x_col=\"image_path\",\n",
    "        y_col=\"Shape\",\n",
    "        target_size=(28, 28),\n",
    "        batch_size=batch_size,\n",
    "        class_mode='categorical')"
   ]
  },
  {
   "cell_type": "markdown",
   "id": "14623852",
   "metadata": {},
   "source": [
    "### Setting Up Baseline Model"
   ]
  },
  {
   "cell_type": "code",
   "execution_count": 9,
   "id": "726ed230",
   "metadata": {},
   "outputs": [],
   "source": [
    "reg_lambda = 0.001\n",
    "OUTPUT_CLASSES = 5\n",
    "\n",
    "model_Shape = tf.keras.Sequential([\n",
    "    tf.keras.layers.Input(shape=(28, 28, 3)),\n",
    "    tf.keras.layers.Lambda(lambda x: tf.expand_dims(x[:,:,:,0], -1, name=None)),\n",
    "    \n",
    "    \n",
    "    tf.keras.layers.Conv2D(32, (3, 3), kernel_regularizer=tf.keras.regularizers.l2(reg_lambda)),\n",
    "    tf.keras.layers.Activation('relu'),\n",
    "    tf.keras.layers.MaxPool2D(pool_size=(2,2)),\n",
    "    \n",
    "    tf.keras.layers.Conv2D(32, (3, 3), kernel_regularizer=tf.keras.regularizers.l2(reg_lambda)),\n",
    "    tf.keras.layers.Activation('relu'),\n",
    "    \n",
    "    tf.keras.layers.Conv2D(64, (3, 3)),\n",
    "    tf.keras.layers.Activation('relu'),\n",
    "    tf.keras.layers.MaxPool2D(pool_size=(2,2)),\n",
    "    \n",
    "    tf.keras.layers.Flatten(),\n",
    "    \n",
    "    tf.keras.layers.Dense(64),\n",
    "    tf.keras.layers.Activation('relu'),\n",
    "    tf.keras.layers.Dropout(0.5),\n",
    "    tf.keras.layers.Dense(OUTPUT_CLASSES, activation='softmax', kernel_regularizer=tf.keras.regularizers.l2(reg_lambda))\n",
    "])"
   ]
  },
  {
   "cell_type": "markdown",
   "id": "184693f9",
   "metadata": {},
   "source": [
    "### Training Model"
   ]
  },
  {
   "cell_type": "code",
   "execution_count": 10,
   "id": "f254ff61",
   "metadata": {},
   "outputs": [],
   "source": [
    "sgd = tf.keras.optimizers.SGD(lr=0.01, decay=1e-6, momentum=0.9, nesterov=True)\n",
    "model_Shape.compile(optimizer=sgd,\n",
    "              loss=tf.keras.losses.CategoricalCrossentropy(from_logits=False),\n",
    "              metrics=['categorical_accuracy'])\n",
    "\n",
    "history = model_Shape.fit_generator(train_generator, \n",
    "                                    validation_data = validation_generator, \n",
    "                                    epochs=100, verbose=0)"
   ]
  },
  {
   "cell_type": "code",
   "execution_count": 44,
   "id": "a5b3050c",
   "metadata": {},
   "outputs": [
    {
     "data": {
      "image/png": "[encoded data removed]",
      "text/plain": [
       "<Figure size 720x360 with 2 Axes>"
      ]
     },
     "metadata": {
      "needs_background": "light"
     },
     "output_type": "display_data"
    }
   ],
   "source": [
    "plt.figure(figsize=(10,5))\n",
    "plt.subplot(1,2,1)\n",
    "plt.plot(history.history['loss'], 'r--')\n",
    "plt.plot(history.history['val_loss'], 'b--')\n",
    "plt.xlabel(\"epochs\")\n",
    "plt.ylabel(\"Loss\")\n",
    "plt.legend(['train', 'val'], loc='upper left')\n",
    "\n",
    "plt.subplot(1,2,2)\n",
    "plt.plot(history.history['categorical_accuracy'], 'r--')\n",
    "plt.plot(history.history['val_categorical_accuracy'], 'b--')\n",
    "plt.xlabel(\"epochs\")\n",
    "plt.ylabel(\"Accuracy\")\n",
    "plt.legend(['train', 'val'], loc='upper left')\n",
    "plt.show()\n",
    "\n",
    "plt.show()"
   ]
  },
  {
   "cell_type": "markdown",
   "id": "27ffd8e0",
   "metadata": {},
   "source": [
    "### Testing Model"
   ]
  },
  {
   "cell_type": "code",
   "execution_count": 45,
   "id": "260355cb",
   "metadata": {},
   "outputs": [
    {
     "name": "stdout",
     "output_type": "stream",
     "text": [
      "Found 740 validated image filenames belonging to 5 classes.\n"
     ]
    },
    {
     "data": {
      "image/png": "[encoded data removed]",
      "text/plain": [
       "<Figure size 1152x720 with 4 Axes>"
      ]
     },
     "metadata": {
      "needs_background": "light"
     },
     "output_type": "display_data"
    }
   ],
   "source": [
    "test_datagen = ImageDataGenerator(rescale=1./255, data_format='channels_last')\n",
    "batch_size = 1\n",
    "\n",
    "test_generator = test_datagen.flow_from_dataframe(\n",
    "        dataframe=test_data,\n",
    "        directory='./',\n",
    "        x_col=\"image_path\",\n",
    "        y_col=\"Shape\",\n",
    "        target_size=(28, 28),\n",
    "        batch_size=batch_size,\n",
    "        class_mode='categorical')\n",
    "\n",
    "d_inv = {v: k for k, v in d.items()}\n",
    "\n",
    "plt.figure(figsize=(16,10))\n",
    "\n",
    "batches = 0\n",
    "\n",
    "for x,y in test_generator:\n",
    "       \n",
    "        batches = batches + 1\n",
    "        y_hat = model_Shape.predict(x, verbose=0)\n",
    "        x = np.squeeze(x)\n",
    "        if batches < 5:\n",
    "            plt.subplot(1,4,batches)\n",
    "            plt.imshow(x)\n",
    "            plt.title(\"GT-{}, Pred-{}\".format(d_inv[np.argmax(y[0])], d_inv[np.argmax(y_hat[0])] ))\n",
    "            \n",
    "        else:\n",
    "            break\n",
    "        \n",
    "        plt.axis('off')"
   ]
  },
  {
   "cell_type": "markdown",
   "id": "2609faa9",
   "metadata": {},
   "source": [
    "## Data Augmented Model  <a class=\"anchor\" id=\"shapeA\"></a>"
   ]
  },
  {
   "cell_type": "markdown",
   "id": "d3b914ec",
   "metadata": {},
   "source": [
    "### Setting up Data Loaders"
   ]
  },
  {
   "cell_type": "code",
   "execution_count": 13,
   "id": "89816891",
   "metadata": {},
   "outputs": [
    {
     "name": "stdout",
     "output_type": "stream",
     "text": [
      "Found 2219 validated image filenames belonging to 5 classes.\n",
      "Found 740 validated image filenames belonging to 5 classes.\n"
     ]
    }
   ],
   "source": [
    "from tensorflow.keras.preprocessing.image import ImageDataGenerator\n",
    "\n",
    "train_datagen = ImageDataGenerator(rescale=1./255, data_format='channels_last',\n",
    "                                  rotation_range=15, width_shift_range=0.2,\n",
    "                                  height_shift_range=0.2)\n",
    "val_datagen = ImageDataGenerator(rescale=1./255, data_format='channels_last')\n",
    "\n",
    "batch_size = 32\n",
    "\n",
    "train_generator = train_datagen.flow_from_dataframe(\n",
    "        dataframe=train_data,\n",
    "        directory='./',\n",
    "        x_col=\"image_path\",\n",
    "        y_col=\"Shape\",\n",
    "        target_size=(28, 28),\n",
    "        batch_size=batch_size,\n",
    "        class_mode='categorical')\n",
    "\n",
    "validation_generator = val_datagen.flow_from_dataframe(\n",
    "        dataframe=val_data,\n",
    "        directory='./',\n",
    "        x_col=\"image_path\",\n",
    "        y_col=\"Shape\",\n",
    "        target_size=(28, 28),\n",
    "        batch_size=batch_size,\n",
    "        class_mode='categorical')"
   ]
  },
  {
   "cell_type": "markdown",
   "id": "c3ceb924",
   "metadata": {},
   "source": [
    "### Setting Up Data Augmented Model"
   ]
  },
  {
   "cell_type": "code",
   "execution_count": 14,
   "id": "262c991e",
   "metadata": {},
   "outputs": [],
   "source": [
    "model_leNet_aug = tf.keras.Sequential([\n",
    "    tf.keras.layers.Input(shape=(28, 28, 3)),\n",
    "    tf.keras.layers.Lambda(lambda x: tf.expand_dims(x[:,:,:,0], -1, name=None)),\n",
    "    \n",
    "    \n",
    "    tf.keras.layers.Conv2D(32, (3, 3), kernel_regularizer=tf.keras.regularizers.l2(reg_lambda)),\n",
    "    tf.keras.layers.Activation('relu'),\n",
    "    tf.keras.layers.MaxPool2D(pool_size=(2,2)),\n",
    "    \n",
    "    tf.keras.layers.Conv2D(32, (3, 3), kernel_regularizer=tf.keras.regularizers.l2(reg_lambda)),\n",
    "    tf.keras.layers.Activation('relu'),\n",
    "    \n",
    "    tf.keras.layers.Conv2D(64, (3, 3)),\n",
    "    tf.keras.layers.Activation('relu'),\n",
    "    tf.keras.layers.MaxPool2D(pool_size=(2,2)),\n",
    "    \n",
    "    tf.keras.layers.Flatten(),\n",
    "    tf.keras.layers.Dense(64),\n",
    "    tf.keras.layers.Activation('relu'),\n",
    "    tf.keras.layers.Dropout(0.5),\n",
    "    tf.keras.layers.Dense(OUTPUT_CLASSES, activation='softmax', kernel_regularizer=tf.keras.regularizers.l2(reg_lambda))\n",
    "])"
   ]
  },
  {
   "cell_type": "markdown",
   "id": "e9f68b23",
   "metadata": {},
   "source": [
    "### Training Data Augmented Model"
   ]
  },
  {
   "cell_type": "code",
   "execution_count": 15,
   "id": "94c29a7d",
   "metadata": {},
   "outputs": [],
   "source": [
    "model_leNet_aug.compile(optimizer=sgd,\n",
    "              loss=tf.keras.losses.CategoricalCrossentropy(from_logits=False),\n",
    "              metrics=['categorical_accuracy'])\n",
    "\n",
    "history = model_leNet_aug.fit_generator(train_generator, \n",
    "                                    validation_data = validation_generator, \n",
    "                                    epochs=150, verbose=0)"
   ]
  },
  {
   "cell_type": "code",
   "execution_count": 16,
   "id": "6276b989",
   "metadata": {},
   "outputs": [
    {
     "data": {
      "image/png": "[encoded data removed]",
      "text/plain": [
       "<Figure size 720x360 with 2 Axes>"
      ]
     },
     "metadata": {
      "needs_background": "light"
     },
     "output_type": "display_data"
    }
   ],
   "source": [
    "plt.figure(figsize=(10,5))\n",
    "plt.subplot(1,2,1)\n",
    "plt.plot(history.history['loss'], 'r--')\n",
    "plt.plot(history.history['val_loss'], 'b--')\n",
    "plt.xlabel(\"epochs\")\n",
    "plt.ylabel(\"Loss\")\n",
    "plt.legend(['train', 'val'], loc='upper left')\n",
    "\n",
    "plt.subplot(1,2,2)\n",
    "plt.plot(history.history['categorical_accuracy'], 'r--')\n",
    "plt.plot(history.history['val_categorical_accuracy'], 'b--')\n",
    "plt.xlabel(\"epochs\")\n",
    "plt.ylabel(\"Accuracy\")\n",
    "plt.legend(['train', 'val'], loc='upper left')\n",
    "plt.show()\n",
    "\n",
    "plt.show()"
   ]
  },
  {
   "cell_type": "markdown",
   "id": "5f232801",
   "metadata": {},
   "source": [
    "### Testing Model"
   ]
  },
  {
   "cell_type": "code",
   "execution_count": 17,
   "id": "79225881",
   "metadata": {},
   "outputs": [
    {
     "name": "stdout",
     "output_type": "stream",
     "text": [
      "Found 740 validated image filenames belonging to 5 classes.\n",
      "{0: 'diamond', 1: 'hex', 2: 'round', 3: 'square', 4: 'triangle'}\n"
     ]
    },
    {
     "data": {
      "image/png": "[encoded data removed]",
      "text/plain": [
       "<Figure size 1152x720 with 4 Axes>"
      ]
     },
     "metadata": {
      "needs_background": "light"
     },
     "output_type": "display_data"
    }
   ],
   "source": [
    "test_datagen = ImageDataGenerator(rescale=1./255, data_format='channels_last')\n",
    "batch_size = 1\n",
    "\n",
    "test_generator = test_datagen.flow_from_dataframe(\n",
    "        dataframe=test_data,\n",
    "        directory='./',\n",
    "        x_col=\"image_path\",\n",
    "        y_col=\"Shape\",\n",
    "        target_size=(28, 28),\n",
    "        batch_size=batch_size,\n",
    "        class_mode='categorical')\n",
    "\n",
    "d_inv = {v: k for k, v in d.items()}\n",
    "plt.figure(figsize=(16,10))\n",
    "\n",
    "batches = 0\n",
    "\n",
    "for x,y in test_generator:\n",
    "       \n",
    "        batches = batches + 1\n",
    "        y_hat = model_leNet_aug.predict(x, verbose=0)\n",
    "        x = np.squeeze(x)\n",
    "        if batches < 5:\n",
    "            plt.subplot(1,4,batches)\n",
    "            plt.imshow(x)\n",
    "            plt.title(\"GT-{}, Pred-{}\".format(d_inv[np.argmax(y[0])], d_inv[np.argmax(y_hat[0])] ))\n",
    "            \n",
    "        else:\n",
    "            break\n",
    "        \n",
    "        plt.axis('off')"
   ]
  },
  {
   "cell_type": "markdown",
   "id": "7f131a76",
   "metadata": {},
   "source": [
    "## Classifying Images According to Sign Type  <a class=\"anchor\" id=\"type\"></a>"
   ]
  },
  {
   "cell_type": "markdown",
   "id": "6d4150d6",
   "metadata": {},
   "source": [
    "### Setting Up Data Loaders"
   ]
  },
  {
   "cell_type": "code",
   "execution_count": 18,
   "id": "6b0e9d30",
   "metadata": {},
   "outputs": [
    {
     "name": "stdout",
     "output_type": "stream",
     "text": [
      "Found 2219 validated image filenames belonging to 16 classes.\n",
      "Found 740 validated image filenames belonging to 16 classes.\n"
     ]
    }
   ],
   "source": [
    "from tensorflow.keras.preprocessing.image import ImageDataGenerator\n",
    "\n",
    "train_datagen = ImageDataGenerator(rescale=1./255, data_format='channels_last')\n",
    "val_datagen = ImageDataGenerator(rescale=1./255, data_format='channels_last')\n",
    "\n",
    "\n",
    "batch_size = 32\n",
    "\n",
    "train_generator = train_datagen.flow_from_dataframe(\n",
    "        dataframe=train_data,\n",
    "        directory='./',\n",
    "        x_col=\"image_path\",\n",
    "        y_col=\"Type\",\n",
    "        target_size=(28, 28),\n",
    "        batch_size=batch_size,\n",
    "        class_mode='categorical')\n",
    "\n",
    "validation_generator = val_datagen.flow_from_dataframe(\n",
    "        dataframe=val_data,\n",
    "        directory='./',\n",
    "        x_col=\"image_path\",\n",
    "        y_col=\"Type\",\n",
    "        target_size=(28, 28),\n",
    "        batch_size=batch_size,\n",
    "        class_mode='categorical')"
   ]
  },
  {
   "cell_type": "markdown",
   "id": "cefb463c",
   "metadata": {},
   "source": [
    "### Setting Up Base Model  <a class=\"anchor\" id=\"typeB\"></a>"
   ]
  },
  {
   "cell_type": "code",
   "execution_count": 19,
   "id": "271e7f94",
   "metadata": {},
   "outputs": [],
   "source": [
    "reg_lambda = 0.001\n",
    "OUTPUT_CLASSES = 16\n",
    "\n",
    "model_leNet = tf.keras.Sequential([\n",
    "    tf.keras.layers.Input(shape=(28, 28, 3)),\n",
    "    tf.keras.layers.Lambda(lambda x: tf.expand_dims(x[:,:,:,0], -1, name=None)),\n",
    "    \n",
    "    \n",
    "    tf.keras.layers.Conv2D(32, (3, 3), kernel_regularizer=tf.keras.regularizers.l2(reg_lambda)),\n",
    "    tf.keras.layers.Activation('relu'),\n",
    "    tf.keras.layers.MaxPool2D(pool_size=(2,2)),\n",
    "    \n",
    "    tf.keras.layers.Conv2D(32, (3, 3), kernel_regularizer=tf.keras.regularizers.l2(reg_lambda)),\n",
    "    tf.keras.layers.Activation('relu'),\n",
    "    \n",
    "    tf.keras.layers.Conv2D(64, (3, 3)),\n",
    "    tf.keras.layers.Activation('relu'),\n",
    "    tf.keras.layers.MaxPool2D(pool_size=(2,2)),\n",
    "    \n",
    "    tf.keras.layers.Flatten(),\n",
    "    \n",
    "    tf.keras.layers.Dense(64),\n",
    "    tf.keras.layers.Activation('relu'),\n",
    "    tf.keras.layers.Dropout(0.5),\n",
    "    tf.keras.layers.Dense(OUTPUT_CLASSES, activation='softmax', kernel_regularizer=tf.keras.regularizers.l2(reg_lambda))\n",
    "])"
   ]
  },
  {
   "cell_type": "markdown",
   "id": "255fac3e",
   "metadata": {},
   "source": [
    "### Training Base Model"
   ]
  },
  {
   "cell_type": "code",
   "execution_count": 20,
   "id": "edbe5313",
   "metadata": {},
   "outputs": [],
   "source": [
    "sgd = tf.keras.optimizers.SGD(lr=0.01, decay=1e-6, momentum=0.9, nesterov=True)\n",
    "model_leNet.compile(optimizer=sgd,\n",
    "              loss=tf.keras.losses.CategoricalCrossentropy(from_logits=False),\n",
    "              metrics=['categorical_accuracy'])\n",
    "\n",
    "history = model_leNet.fit_generator(train_generator, \n",
    "                                    validation_data = validation_generator, \n",
    "                                    epochs=50, verbose=0)"
   ]
  },
  {
   "cell_type": "code",
   "execution_count": 21,
   "id": "4808c21b",
   "metadata": {
    "scrolled": true
   },
   "outputs": [
    {
     "data": {
      "image/png": "[encoded data removed]",
      "text/plain": [
       "<Figure size 720x360 with 2 Axes>"
      ]
     },
     "metadata": {
      "needs_background": "light"
     },
     "output_type": "display_data"
    }
   ],
   "source": [
    "plt.figure(figsize=(10,5))\n",
    "plt.subplot(1,2,1)\n",
    "plt.plot(history.history['loss'], 'r--')\n",
    "plt.plot(history.history['val_loss'], 'b--')\n",
    "plt.xlabel(\"epochs\")\n",
    "plt.ylabel(\"Loss\")\n",
    "plt.legend(['train', 'val'], loc='upper left')\n",
    "\n",
    "plt.subplot(1,2,2)\n",
    "plt.plot(history.history['categorical_accuracy'], 'r--')\n",
    "plt.plot(history.history['val_categorical_accuracy'], 'b--')\n",
    "plt.xlabel(\"epochs\")\n",
    "plt.ylabel(\"Accuracy\")\n",
    "plt.legend(['train', 'val'], loc='upper left')\n",
    "plt.show()\n",
    "\n",
    "plt.show()"
   ]
  },
  {
   "cell_type": "markdown",
   "id": "3be11155",
   "metadata": {},
   "source": [
    "### Testing Model"
   ]
  },
  {
   "cell_type": "code",
   "execution_count": 47,
   "id": "19838fdd",
   "metadata": {},
   "outputs": [
    {
     "name": "stdout",
     "output_type": "stream",
     "text": [
      "Found 740 validated image filenames belonging to 16 classes.\n"
     ]
    },
    {
     "data": {
      "image/png": "[encoded data removed]",
      "text/plain": [
       "<Figure size 1152x720 with 4 Axes>"
      ]
     },
     "metadata": {
      "needs_background": "light"
     },
     "output_type": "display_data"
    }
   ],
   "source": [
    "test_datagen = ImageDataGenerator(rescale=1./255, data_format='channels_last')\n",
    "batch_size = 1\n",
    "\n",
    "test_generator = test_datagen.flow_from_dataframe(\n",
    "        dataframe=test_data,\n",
    "        directory='./',\n",
    "        x_col=\"image_path\",\n",
    "        y_col=\"Type\",\n",
    "        target_size=(28, 28),\n",
    "        batch_size=batch_size,\n",
    "        class_mode='categorical')\n",
    "\n",
    "k_inv = {v: k for k, v in label_names.items()}\n",
    "\n",
    "plt.figure(figsize=(16,10))\n",
    "\n",
    "batches = 0\n",
    "\n",
    "for x,y in test_generator:\n",
    "       \n",
    "        batches = batches + 1\n",
    "        y_hat = model_leNet.predict(x, verbose=0)\n",
    "        x = np.squeeze(x)\n",
    "        if batches <  5:\n",
    "            plt.subplot(1,4,batches)\n",
    "            plt.imshow(x)\n",
    "            plt.title(\"GT-{}, Pred-{}\".format(k_inv[np.argmax(y[0])], k_inv[np.argmax(y_hat[0])]))\n",
    "            \n",
    "        else:\n",
    "            break\n",
    "        \n",
    "        plt.axis('off')"
   ]
  },
  {
   "cell_type": "markdown",
   "id": "0306711e",
   "metadata": {},
   "source": [
    "# Testing Models on Real World Data"
   ]
  },
  {
   "cell_type": "markdown",
   "id": "c04665b2",
   "metadata": {},
   "source": [
    "# Ultimate Judgement"
   ]
  },
  {
   "cell_type": "markdown",
   "id": "5b529fba",
   "metadata": {},
   "source": [
    "# References  <a class=\"anchor\" id=\"ref\"></a>\n",
    "- https://www.google.com/url?sa=i&url=https%3A%2F%2Fdiscuss.boardinfinity.com%2Ft%2Fwhat-do-you-mean-by-convolutional-neural-network%2F8533&psig=AOvVaw0nWa2gezqj8sOleZ_ujGcD&ust=1653636797956000&source=images&cd=vfe&ved=0CAwQjRxqFwoTCIjvnaLT_PcCFQAAAAAdAAAAABAJ\n",
    "- https://www.learndatasci.com/tutorials/convolutional-neural-networks-image-classification/"
   ]
  },
  {
   "cell_type": "code",
   "execution_count": 27,
   "id": "9ff3c390",
   "metadata": {},
   "outputs": [
    {
     "name": "stdout",
     "output_type": "stream",
     "text": [
      "WARNING:tensorflow:From /Users/luke/opt/anaconda3/envs/py36/lib/python3.6/site-packages/tensorflow_core/python/ops/resource_variable_ops.py:1781: calling BaseResourceVariable.__init__ (from tensorflow.python.ops.resource_variable_ops) with constraint is deprecated and will be removed in a future version.\n",
      "Instructions for updating:\n",
      "If using Keras pass *_constraint arguments to layers.\n",
      "INFO:tensorflow:Assets written to: model_Shape_Base/assets\n",
      "INFO:tensorflow:Assets written to: model_Shape_Aug/assets\n",
      "INFO:tensorflow:Assets written to: model_Type_Base/assets\n"
     ]
    }
   ],
   "source": [
    "model_Shape.save(\"model_Shape_Base\")\n",
    "model_leNet_aug.save(\"model_Shape_Aug\")\n",
    "model_leNet.save(\"model_Type_Base\")"
   ]
  }
 ],
 "metadata": {
  "kernelspec": {
   "display_name": "Python 3",
   "language": "python",
   "name": "python3"
  },
  "language_info": {
   "codemirror_mode": {
    "name": "ipython",
    "version": 3
   },
   "file_extension": ".py",
   "mimetype": "text/x-python",
   "name": "python",
   "nbconvert_exporter": "python",
   "pygments_lexer": "ipython3",
   "version": "3.6.13"
  }
 },
 "nbformat": 4,
 "nbformat_minor": 5
}
