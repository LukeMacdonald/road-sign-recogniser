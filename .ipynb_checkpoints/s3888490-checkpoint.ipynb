{
 "cells": [
  {
   "cell_type": "markdown",
   "id": "bc87c689",
   "metadata": {},
   "source": [
    "# Classify Images of Road Traffc Signs\n",
    "### Name: Luke Macdonald\n",
    "\n",
    "### ID:  s3888490\n",
    "\n",
    "## Table of Contents\n",
    "* [Introduction](#itr)\n",
    "* [Designing the Model](#design)\n",
    "* [Classifying Images According to Shape](#shape)\n",
    "  + [Baseline Model](#shapeB)\n",
    "  + [Data Augmented Model](#shapeA)\n",
    "* [Classifying Images According to Sign Type](#type)\n",
    "  + [Baseline Model](#typeB)\n",
    "  + [Data Augmented Model](#typeA)\n",
    "* [Performance on test set (Unseen data)](#test)\n",
    "* [References](#ref)\n",
    "\n",
    "## Introduction  <a class=\"anchor\" id=\"itr\"></a>\n",
    "### Aim of Project\n",
    "\n",
    "The aim of this project is to complete the machine learning model building process that will be used to classify road traffic signs images according to their shape and sign type. This will be done by using a modified dataset of the Belgium Traffucc Sign Classification Benchmark dataset to train a model to be able to recognise the different types of signs. The images in the dataset are divided up in two ways, first by the shape of the sign (diamond,hex, etc) and then by the type of sign (stop, speed, etc), the purpose of this machine learning model is to be able to classify and image according to both its shape and sign type\n",
    "\n",
    "<img src = \"https://encrypted-tbn0.gstatic.com/images?q=tbn:ANd9GcSdUBpakcz9zspOii-Dl83pcwksmpT2RNVP6g&usqp=CAU\" width = 60%>\n",
    "\n",
    "### Sign Shapes Include:\n",
    "- diamond, \n",
    "- hex, \n",
    "- rectangle, \n",
    "- round, \n",
    "- triangle.\n",
    "\n",
    "### Sign Types Include:\n",
    "- stop, \n",
    "- speed, \n",
    "- warning, \n",
    "- parking,\n",
    "- rightofway,\n",
    "- bicycle,\n",
    "- limitedtraffic,\n",
    "- noentry,\n",
    "- noparking,\n",
    "- roundabout,\n",
    "- trafficdirective,\n",
    "- traveldirection,\n",
    "- continue,\n",
    "- rossing,\n",
    "- laneend,\n",
    "- giveway"
   ]
  },
  {
   "cell_type": "markdown",
   "id": "c3742a75",
   "metadata": {},
   "source": [
    "#### Import required packages."
   ]
  },
  {
   "cell_type": "code",
   "execution_count": 1,
   "id": "3baef15c",
   "metadata": {},
   "outputs": [],
   "source": [
    "import tensorflow as tf\n",
    "AUTOTUNE = tf.data.experimental.AUTOTUNE\n",
    "import IPython.display as display\n",
    "from PIL import Image\n",
    "import numpy as np\n",
    "import matplotlib.pyplot as plt\n",
    "import os\n",
    "import pandas as pd\n",
    "from tensorflow.keras.preprocessing.image import ImageDataGenerator"
   ]
  },
  {
   "cell_type": "markdown",
   "id": "f3373db2",
   "metadata": {},
   "source": [
    "#### Import dataset"
   ]
  },
  {
   "cell_type": "code",
   "execution_count": 2,
   "id": "0b5d2b93",
   "metadata": {},
   "outputs": [],
   "source": [
    "from PIL import Image\n",
    "import glob\n",
    "val_shapes = ['diamond', 'hex', 'round', 'square', 'triange']\n",
    "image_list = []\n",
    "for filepath in glob.glob('./trafficsigns_dataset/*/*/*.png', recursive=True): #assuming gif\n",
    "    filename = filepath.split(\"/\")[-1]\n",
    "    shape = filepath.split(\"/\")[-3]\n",
    "    sign_type = filepath.split(\"/\")[-2]\n",
    "    label = filename.split(\"/\")[0]\n",
    "    image_list.append((filepath, shape, sign_type,filename))"
   ]
  },
  {
   "cell_type": "code",
   "execution_count": 3,
   "id": "8a217dff",
   "metadata": {},
   "outputs": [],
   "source": [
    "data = pd.DataFrame(data=image_list, columns=['image_path', 'Shape', 'Type','Label'])"
   ]
  },
  {
   "cell_type": "code",
   "execution_count": 103,
   "id": "a3f32990",
   "metadata": {},
   "outputs": [],
   "source": [
    "d = {'diamond':0, 'hex':1, 'round':2, 'square':3,'triangle':4}\n",
    "\n",
    "data['shape_num'] = data['Shape'].map(d, na_action='ignore')\n",
    "\n",
    " \n",
    "label_names = {'bicycle' : 0,'continue':1,'crossing':2,'giveway':3,'laneend':4,'limitedtraffic' : 5,'noentry' : 6,\n",
    "               'noparking': 7,'parking':8,'rightofway' : 9,'roundabout':10,'speed': 11,'stop' : 12,\n",
    "               'trafficdirective':13,'traveldirection':14,'warning':15}\n",
    "\n",
    "data['type_num'] = data['Type'].map(label_names, na_action='ignore')"
   ]
  },
  {
   "cell_type": "code",
   "execution_count": 5,
   "id": "aa247b4b",
   "metadata": {},
   "outputs": [
    {
     "name": "stdout",
     "output_type": "stream",
     "text": [
      "Train data : 2219, Val Data: 740, Test Data: 740\n"
     ]
    }
   ],
   "source": [
    "from sklearn.model_selection import train_test_split\n",
    "train_data, test_data = train_test_split(data, test_size=0.2, random_state=42)\n",
    "train_data, val_data = train_test_split(train_data, test_size=0.25, random_state=42)\n",
    "\n",
    "print(\"Train data : {}, Val Data: {}, Test Data: {}\".format(train_data.shape[0], val_data.shape[0], test_data.shape[0]))"
   ]
  },
  {
   "cell_type": "code",
   "execution_count": 6,
   "id": "1e38fc65",
   "metadata": {},
   "outputs": [
    {
     "data": {
      "image/png": "[encoded data removed]",
      "text/plain": [
       "<Figure size 1152x288 with 4 Axes>"
      ]
     },
     "metadata": {
      "needs_background": "light"
     },
     "output_type": "display_data"
    }
   ],
   "source": [
    "r_inx = np.random.choice(3000, 4)\n",
    "rand_data = data.loc[r_inx,'image_path']\n",
    "\n",
    "plt.figure(figsize=(16,4))\n",
    "for i, image_path in enumerate(rand_data):\n",
    "    im = np.asarray(Image.open(image_path))\n",
    "    plt.subplot(1,4,i+1)\n",
    "    plt.imshow(im,cmap='gray')\n",
    "    plt.axis('off')\n",
    "    \n",
    "plt.show()"
   ]
  },
  {
   "attachments": {},
   "cell_type": "markdown",
   "id": "1fa2cf31",
   "metadata": {},
   "source": [
    "## Designing the Model  <a class=\"anchor\" id=\"design\"></a>\n",
    "A convolution neural network which is a class of neural network is the algorithm that is going to be used to train a model to be able to successfully recognise and classify an image of a road sign according to both its shape and sign type.\n",
    "<img src = https://cdn.discuss.boardinfinity.com/original/2X/1/1f1bf9539699c880b33f978e724f803ef8197f6f.png width = 80%>\n",
    "\n",
    "The CNN architectuire is made up of several layers\n",
    "1. <b>Input Layer:</b> The input layer for this model is the raw pixel values of an image represented as a 3D matrix\n",
    " - Dimensions of the Matrix are $Width \\times Depth \\times Height$\n",
    "     - Height is the number of pixels along the vertical axis\n",
    "     - Width is the number of pixels along the horiztonal axis\n",
    "     - Depth corresponds to the colour changes (RBG) in the image. However, for the data provided the images have been greyscaled therefore the size of their depth is one.\n",
    "2. <b>Convolutional Layer</b>The convolution layer is the layer in which convolution filtering occurs.\n",
    "3. <b>Activation Layer:</b> An activation function in a neural network defines how the weighted sum of the input is transformed into an output from a node or nodes in a layer of the network. The activiation determines the relevancy of a given node(s) and if a node is found to be relevant by the model, than that node will \"fire\" after passing through the activiation function. There are multiple types of activation function:\n",
    "    - ReLU\n",
    "    - Sigmoid Function\n",
    "    - tanh\n",
    "\n",
    "4. <b>Pooling Layer:</b> Pooling in CNN's is used for generalizing features that have been extracted by convolutional filters and for helping the network recognize features independent of their location in the image. The method of pooling is very similar to convolution procedure itself. A filter of a certain size (for this report the size of filter is 2x2) is selected and then slide it over the output feature map of the convolution layer. There are two main types of pooling methods.\n",
    "    - Max Pooling: The filter selects the maximum pixel value in the field (this is the method that is going to be used in the trained model for classifying road sign images)\n",
    "    - Average Pooling: The filter calculates the average of all the pixel values in the field.\n",
    "\n",
    "5. <b>Fully-Connected Layer:</b> The fully connected layer is the layer in which the output from the previous layer is taken in as input and then calculates the class scores and outputs the results in the form of a 1-D array where the size is equal to the number of classes.\n",
    "\n",
    "\n",
    "### Tuning of Hyperparameters \n",
    "The hyperparameters in the convolution layer of the CNN that will need to be tuned are the stride and padding paramters.\n",
    "- <b>Stride</b>: Refers to the number of pixels by which the filter moves across after each operation. Stride is used in both the convoluntial and pooling operations and for these models the stride is going be set to be set to their default value 1, i.e. move 1 pixel at a time\n",
    "- <b>Padding</b>: Refers to the operation of adding pixels to an image. Padding ensures that no border pixels of an image is missed during the convolution operation. For these models the padding is going to be set to 'same', this will keep the same image size by adding zeros around the image\n",
    "\n",
    "#### Activiation Layer\n",
    "In the activiation layer the hyperparameter that will need to be tuned is the activiation function itself.\n",
    " - For these models the activiation function that is going to be used is the ReLu function.\n",
    " - The ReLU function is a non-linear activation function with its main advantage over the other activiation functions (e.g. sigmoid) is that that it does not activate all the neurons at the same time. This means that the neurons will only be deactivated if the output of the linear transformation is less than 0.\n",
    "     - Helps to prevent the exponential growth in the computation required to operate the neural network.\n",
    "\n",
    "#### Pooling Layer\n",
    "In the Pooling Layer the hyperparameters tuned is the filter size and stride\n",
    "- Stride is going to be set to the default value of 1\n",
    "- The size of the filter is going to be 2 x 2\n",
    "\n",
    "#### Fully Connected Layer\n",
    "In the Fully Connected Layer the hyper parameter tuned is the activiation function.\n",
    "- For this activiation function the models are going to use softmax.\n",
    "\n",
    "Softmax\n",
    "- An activiation function only used in the last layer because it converts the vector of numbers into the vector of the probabilities\n",
    "\n",
    "#### Dropout\n",
    "Dropout is a hyperparameter implemented in the models being created in the project.\n",
    "- Dropout is used because it helps prevent overfitting on the data by by randomly setting the outgoing edges of hidden units to 0 at each update of the training phase"
   ]
  },
  {
   "cell_type": "code",
   "execution_count": 7,
   "id": "399daef9",
   "metadata": {},
   "outputs": [],
   "source": [
    "train_datagen = ImageDataGenerator(rescale=1./255, data_format='channels_last')\n",
    "val_datagen = ImageDataGenerator(rescale=1./255, data_format='channels_last')"
   ]
  },
  {
   "cell_type": "code",
   "execution_count": 8,
   "id": "d4ad3b83",
   "metadata": {},
   "outputs": [],
   "source": [
    "import matplotlib.pyplot as plt\n",
    "def plot_learning_curve(train_loss, val_loss, train_metric, val_metric, metric_name='Accuracy'):\n",
    "    plt.figure(figsize=(10,5))\n",
    "    \n",
    "    plt.subplot(1,2,1)\n",
    "    plt.plot(train_loss, 'r--')\n",
    "    plt.plot(val_loss, 'b--')\n",
    "    plt.xlabel(\"epochs\")\n",
    "    plt.ylabel(\"Loss\")\n",
    "    plt.legend(['train', 'val'], loc='upper left')\n",
    "\n",
    "    plt.subplot(1,2,2)\n",
    "    plt.plot(train_metric, 'r--')\n",
    "    plt.plot(val_metric, 'b--')\n",
    "    plt.xlabel(\"epochs\")\n",
    "    plt.ylabel(metric_name)\n",
    "    plt.legend(['train', 'val'], loc='upper left')\n",
    "\n",
    "    plt.show()"
   ]
  },
  {
   "cell_type": "markdown",
   "id": "70a06377",
   "metadata": {},
   "source": [
    "## Create Model Function\n",
    "The below function is used to initialise all created models with the modified leNet archieture"
   ]
  },
  {
   "cell_type": "code",
   "execution_count": 9,
   "id": "1d6b4a5e",
   "metadata": {},
   "outputs": [],
   "source": [
    "def model(OUTPUTCLASSES):\n",
    "    reg_lambda = 0.001\n",
    "\n",
    "    model = tf.keras.Sequential([\n",
    "        tf.keras.layers.Input(shape=(28, 28, 3)),\n",
    "        tf.keras.layers.Lambda(lambda x: tf.expand_dims(x[:,:,:,0], -1, name=None)),\n",
    "      \n",
    "    \n",
    "        tf.keras.layers.Conv2D(32, (3, 3),padding = 'same', kernel_regularizer=tf.keras.regularizers.l2(reg_lambda)),\n",
    "        tf.keras.layers.Activation('relu'),\n",
    "        tf.keras.layers.MaxPool2D(pool_size=(2,2)),\n",
    "    \n",
    "        tf.keras.layers.Conv2D(32, (3, 3), padding = 'same',kernel_regularizer=tf.keras.regularizers.l2(reg_lambda)),\n",
    "        tf.keras.layers.Activation('relu'),\n",
    "    \n",
    "        tf.keras.layers.Conv2D(64, (3, 3)),\n",
    "        tf.keras.layers.Activation('relu'),\n",
    "        tf.keras.layers.MaxPool2D(pool_size=(2,2)),\n",
    "    \n",
    "        tf.keras.layers.Flatten(),\n",
    "    \n",
    "        tf.keras.layers.Dense(64),\n",
    "        tf.keras.layers.Activation('relu'),\n",
    "        tf.keras.layers.Dropout(0.5),\n",
    "        tf.keras.layers.Dense(OUTPUT_CLASSES, activation='softmax', kernel_regularizer=tf.keras.regularizers.l2(reg_lambda))\n",
    "    ])\n",
    "    return model"
   ]
  },
  {
   "cell_type": "markdown",
   "id": "032c215f",
   "metadata": {},
   "source": [
    "# Loading Models\n",
    "If models have already been created and saved the following operation can be used to load them"
   ]
  },
  {
   "cell_type": "code",
   "execution_count": null,
   "id": "5bab0996",
   "metadata": {},
   "outputs": [],
   "source": [
    "model_shape_base = tf.keras.models.load_model(\"saved_model/model_shape_base\")\n",
    "model_shape_aug = tf.keras.models.load_model(\"saved_model/model_shape_aug\")\n",
    "model_type_base = tf.keras.models.load_model(\"saved_model/model_type_base\")\n",
    "model_type_aug = tf.keras.models.load_model(\"saved_model/model_type_aug\")"
   ]
  },
  {
   "cell_type": "markdown",
   "id": "d1e63d90",
   "metadata": {},
   "source": [
    "## Two Separate Models\n",
    "For each classificication (shape and type) there is going to be two models. One in which is the base one that is being trained on the unmodified data and the other one being one which has been trained on data augmented data.\n",
    "### Data Augmentation\n",
    "Due to the small proportion of data avaiable to train the model, a method is avaiable to make random changes to the data provided (E.g. rotating the image) to increase the diversity of the dataset. This method is called data augmentation.\n",
    "\n",
    "Data Augmentations increase the variance of the training data in a variety of ways, including: random rotation, increase/decreasing brightness, shifting object positions, and horizontally/vertically flipping images."
   ]
  },
  {
   "cell_type": "markdown",
   "id": "fd0d88c5",
   "metadata": {},
   "source": [
    "# Classifying Images According to Shape  <a class=\"anchor\" id=\"shape\"></a>\n",
    "In the following section two models are going to be trained to classify the shape of a sign. These two types of models are the base which doesnt have its data modifed and the other one which has had the data augmented."
   ]
  },
  {
   "cell_type": "markdown",
   "id": "17a361bd",
   "metadata": {},
   "source": [
    "## Base Model  <a class=\"anchor\" id=\"shapeB\"></a>\n",
    "The data in this model is going to be unmodifed"
   ]
  },
  {
   "cell_type": "markdown",
   "id": "3a9fd37b",
   "metadata": {},
   "source": [
    "### Setting up Data Loaders\n",
    "Loads the images that are stored in the directory into the dataset as an array of numbers."
   ]
  },
  {
   "cell_type": "code",
   "execution_count": 10,
   "id": "dd3adfdc",
   "metadata": {},
   "outputs": [
    {
     "name": "stdout",
     "output_type": "stream",
     "text": [
      "Found 2219 validated image filenames belonging to 5 classes.\n",
      "Found 740 validated image filenames belonging to 5 classes.\n"
     ]
    }
   ],
   "source": [
    "from tensorflow.keras.preprocessing.image import ImageDataGenerator\n",
    "\n",
    "train_datagen = ImageDataGenerator(rescale=1./255, data_format='channels_last')\n",
    "val_datagen = ImageDataGenerator(rescale=1./255, data_format='channels_last')\n",
    "\n",
    "batch_size = 32\n",
    "\n",
    "train_generator = train_datagen.flow_from_dataframe(\n",
    "        dataframe=train_data,\n",
    "        directory='./',\n",
    "        x_col=\"image_path\",\n",
    "        y_col=\"Shape\",\n",
    "        target_size=(28, 28),\n",
    "        batch_size=batch_size,\n",
    "        class_mode='categorical')\n",
    "\n",
    "validation_generator = val_datagen.flow_from_dataframe(\n",
    "        dataframe=val_data,\n",
    "        directory='./',\n",
    "        x_col=\"image_path\",\n",
    "        y_col=\"Shape\",\n",
    "        target_size=(28, 28),\n",
    "        batch_size=batch_size,\n",
    "        class_mode='categorical')"
   ]
  },
  {
   "cell_type": "markdown",
   "id": "14623852",
   "metadata": {},
   "source": [
    "### Setting Up Base Model\n",
    "The following operation creates the archicture of the model.\n",
    "- The model for classifying the shape has 5 classes (diamond,hex,round,square,triangle)"
   ]
  },
  {
   "cell_type": "code",
   "execution_count": 11,
   "id": "726ed230",
   "metadata": {},
   "outputs": [],
   "source": [
    "OUTPUT_CLASSES = 5\n",
    "model_shape_base = model(OUTPUT_CLASSES)"
   ]
  },
  {
   "cell_type": "markdown",
   "id": "184693f9",
   "metadata": {},
   "source": [
    "### Training Base Model\n",
    "The following operation compiles the model and trains it against the data"
   ]
  },
  {
   "cell_type": "code",
   "execution_count": 12,
   "id": "f254ff61",
   "metadata": {},
   "outputs": [
    {
     "name": "stdout",
     "output_type": "stream",
     "text": [
      "Epoch 1/100\n",
      "70/70 [==============================] - 11s 161ms/step - loss: 1.3346 - categorical_accuracy: 0.4687 - val_loss: 1.2019 - val_categorical_accuracy: 0.4703\n",
      "Epoch 2/100\n",
      "70/70 [==============================] - 11s 164ms/step - loss: 1.0641 - categorical_accuracy: 0.6133 - val_loss: 0.6737 - val_categorical_accuracy: 0.8027\n",
      "Epoch 3/100\n",
      "70/70 [==============================] - 11s 157ms/step - loss: 0.6010 - categorical_accuracy: 0.8197 - val_loss: 0.3235 - val_categorical_accuracy: 0.9081\n",
      "Epoch 4/100\n",
      "70/70 [==============================] - 11s 160ms/step - loss: 0.3485 - categorical_accuracy: 0.9054 - val_loss: 0.1954 - val_categorical_accuracy: 0.9635\n",
      "Epoch 5/100\n",
      "70/70 [==============================] - 11s 157ms/step - loss: 0.2486 - categorical_accuracy: 0.9414 - val_loss: 0.1473 - val_categorical_accuracy: 0.9676\n",
      "Epoch 6/100\n",
      "70/70 [==============================] - 11s 159ms/step - loss: 0.1835 - categorical_accuracy: 0.9549 - val_loss: 0.1399 - val_categorical_accuracy: 0.9770\n",
      "Epoch 7/100\n",
      "70/70 [==============================] - 12s 168ms/step - loss: 0.1489 - categorical_accuracy: 0.9689 - val_loss: 0.1435 - val_categorical_accuracy: 0.9784\n",
      "Epoch 8/100\n",
      "70/70 [==============================] - 12s 168ms/step - loss: 0.1339 - categorical_accuracy: 0.9775 - val_loss: 0.1138 - val_categorical_accuracy: 0.9838\n",
      "Epoch 9/100\n",
      "70/70 [==============================] - 12s 169ms/step - loss: 0.1098 - categorical_accuracy: 0.9806 - val_loss: 0.1309 - val_categorical_accuracy: 0.9851\n",
      "Epoch 10/100\n",
      "70/70 [==============================] - 12s 168ms/step - loss: 0.1276 - categorical_accuracy: 0.9725 - val_loss: 0.1034 - val_categorical_accuracy: 0.9838\n",
      "Epoch 11/100\n",
      "70/70 [==============================] - 12s 167ms/step - loss: 0.1043 - categorical_accuracy: 0.9824 - val_loss: 0.0892 - val_categorical_accuracy: 0.9905\n",
      "Epoch 12/100\n",
      "70/70 [==============================] - 13s 190ms/step - loss: 0.0966 - categorical_accuracy: 0.9856 - val_loss: 0.0909 - val_categorical_accuracy: 0.9892\n",
      "Epoch 13/100\n",
      "70/70 [==============================] - 11s 158ms/step - loss: 0.0891 - categorical_accuracy: 0.9887 - val_loss: 0.0988 - val_categorical_accuracy: 0.9851\n",
      "Epoch 14/100\n",
      "70/70 [==============================] - 11s 157ms/step - loss: 0.0841 - categorical_accuracy: 0.9896 - val_loss: 0.1012 - val_categorical_accuracy: 0.9865\n",
      "Epoch 15/100\n",
      "70/70 [==============================] - 11s 156ms/step - loss: 0.0775 - categorical_accuracy: 0.9923 - val_loss: 0.0976 - val_categorical_accuracy: 0.9892\n",
      "Epoch 16/100\n",
      "70/70 [==============================] - 11s 155ms/step - loss: 0.0756 - categorical_accuracy: 0.9914 - val_loss: 0.0990 - val_categorical_accuracy: 0.9851\n",
      "Epoch 17/100\n",
      "70/70 [==============================] - 11s 154ms/step - loss: 0.0742 - categorical_accuracy: 0.9946 - val_loss: 0.0854 - val_categorical_accuracy: 0.9919\n",
      "Epoch 18/100\n",
      "70/70 [==============================] - 11s 156ms/step - loss: 0.0740 - categorical_accuracy: 0.9914 - val_loss: 0.0946 - val_categorical_accuracy: 0.9905\n",
      "Epoch 19/100\n",
      "70/70 [==============================] - 11s 158ms/step - loss: 0.0677 - categorical_accuracy: 0.9941 - val_loss: 0.0965 - val_categorical_accuracy: 0.9878\n",
      "Epoch 20/100\n",
      "70/70 [==============================] - 11s 155ms/step - loss: 0.0691 - categorical_accuracy: 0.9932 - val_loss: 0.0801 - val_categorical_accuracy: 0.9905\n",
      "Epoch 21/100\n",
      "70/70 [==============================] - 13s 190ms/step - loss: 0.0661 - categorical_accuracy: 0.9950 - val_loss: 0.0847 - val_categorical_accuracy: 0.9892\n",
      "Epoch 22/100\n",
      "70/70 [==============================] - 11s 155ms/step - loss: 0.0666 - categorical_accuracy: 0.9932 - val_loss: 0.0871 - val_categorical_accuracy: 0.9892\n",
      "Epoch 23/100\n",
      "70/70 [==============================] - 11s 155ms/step - loss: 0.0574 - categorical_accuracy: 0.9964 - val_loss: 0.0853 - val_categorical_accuracy: 0.9905\n",
      "Epoch 24/100\n",
      "70/70 [==============================] - 11s 153ms/step - loss: 0.0600 - categorical_accuracy: 0.9946 - val_loss: 0.0896 - val_categorical_accuracy: 0.9892\n",
      "Epoch 25/100\n",
      "70/70 [==============================] - 11s 154ms/step - loss: 0.0722 - categorical_accuracy: 0.9901 - val_loss: 0.0809 - val_categorical_accuracy: 0.9892\n",
      "Epoch 26/100\n",
      "70/70 [==============================] - 11s 155ms/step - loss: 0.0605 - categorical_accuracy: 0.9950 - val_loss: 0.0925 - val_categorical_accuracy: 0.9892\n",
      "Epoch 27/100\n",
      "70/70 [==============================] - 11s 153ms/step - loss: 0.0558 - categorical_accuracy: 0.9959 - val_loss: 0.0802 - val_categorical_accuracy: 0.9905\n",
      "Epoch 28/100\n",
      "70/70 [==============================] - 11s 154ms/step - loss: 0.0521 - categorical_accuracy: 0.9973 - val_loss: 0.0783 - val_categorical_accuracy: 0.9892\n",
      "Epoch 29/100\n",
      "70/70 [==============================] - 11s 155ms/step - loss: 0.0518 - categorical_accuracy: 0.9977 - val_loss: 0.0776 - val_categorical_accuracy: 0.9932\n",
      "Epoch 30/100\n",
      "70/70 [==============================] - 11s 154ms/step - loss: 0.0531 - categorical_accuracy: 0.9964 - val_loss: 0.0818 - val_categorical_accuracy: 0.9892\n",
      "Epoch 31/100\n",
      "70/70 [==============================] - 11s 158ms/step - loss: 0.0491 - categorical_accuracy: 0.9977 - val_loss: 0.0758 - val_categorical_accuracy: 0.9905\n",
      "Epoch 32/100\n",
      "70/70 [==============================] - 11s 154ms/step - loss: 0.0467 - categorical_accuracy: 0.9986 - val_loss: 0.0806 - val_categorical_accuracy: 0.9892\n",
      "Epoch 33/100\n",
      "70/70 [==============================] - 11s 154ms/step - loss: 0.0538 - categorical_accuracy: 0.9950 - val_loss: 0.0763 - val_categorical_accuracy: 0.9892\n",
      "Epoch 34/100\n",
      "70/70 [==============================] - 11s 154ms/step - loss: 0.0455 - categorical_accuracy: 0.9986 - val_loss: 0.0939 - val_categorical_accuracy: 0.9892\n",
      "Epoch 35/100\n",
      "70/70 [==============================] - 11s 163ms/step - loss: 0.0460 - categorical_accuracy: 0.9977 - val_loss: 0.0829 - val_categorical_accuracy: 0.9892\n",
      "Epoch 36/100\n",
      "70/70 [==============================] - 11s 159ms/step - loss: 0.0504 - categorical_accuracy: 0.9959 - val_loss: 0.0686 - val_categorical_accuracy: 0.9919\n",
      "Epoch 37/100\n",
      "70/70 [==============================] - 13s 181ms/step - loss: 0.0478 - categorical_accuracy: 0.9964 - val_loss: 0.0785 - val_categorical_accuracy: 0.9892\n",
      "Epoch 38/100\n",
      "70/70 [==============================] - 14s 200ms/step - loss: 0.0523 - categorical_accuracy: 0.9955 - val_loss: 0.0654 - val_categorical_accuracy: 0.9905\n",
      "Epoch 39/100\n",
      "70/70 [==============================] - 12s 165ms/step - loss: 0.0428 - categorical_accuracy: 0.9986 - val_loss: 0.0785 - val_categorical_accuracy: 0.9878\n",
      "Epoch 40/100\n",
      "70/70 [==============================] - 12s 167ms/step - loss: 0.0489 - categorical_accuracy: 0.9973 - val_loss: 0.0772 - val_categorical_accuracy: 0.9892\n",
      "Epoch 41/100\n",
      "70/70 [==============================] - 11s 158ms/step - loss: 0.0449 - categorical_accuracy: 0.9973 - val_loss: 0.0842 - val_categorical_accuracy: 0.9892\n",
      "Epoch 42/100\n",
      "70/70 [==============================] - 11s 161ms/step - loss: 0.0423 - categorical_accuracy: 0.9977 - val_loss: 0.1003 - val_categorical_accuracy: 0.9892\n",
      "Epoch 43/100\n",
      "70/70 [==============================] - 11s 157ms/step - loss: 0.0417 - categorical_accuracy: 0.9982 - val_loss: 0.0640 - val_categorical_accuracy: 0.9919\n",
      "Epoch 44/100\n",
      "70/70 [==============================] - 11s 155ms/step - loss: 0.0397 - categorical_accuracy: 0.9986 - val_loss: 0.0674 - val_categorical_accuracy: 0.9892\n",
      "Epoch 45/100\n",
      "70/70 [==============================] - 11s 156ms/step - loss: 0.0371 - categorical_accuracy: 0.9995 - val_loss: 0.0669 - val_categorical_accuracy: 0.9905\n",
      "Epoch 46/100\n",
      "70/70 [==============================] - 11s 157ms/step - loss: 0.0371 - categorical_accuracy: 0.9991 - val_loss: 0.0715 - val_categorical_accuracy: 0.9892\n",
      "Epoch 47/100\n",
      "70/70 [==============================] - 11s 155ms/step - loss: 0.0389 - categorical_accuracy: 0.9973 - val_loss: 0.0641 - val_categorical_accuracy: 0.9905\n",
      "Epoch 48/100\n",
      "70/70 [==============================] - 11s 156ms/step - loss: 0.0383 - categorical_accuracy: 0.9986 - val_loss: 0.0697 - val_categorical_accuracy: 0.9905\n",
      "Epoch 49/100\n"
     ]
    },
    {
     "name": "stdout",
     "output_type": "stream",
     "text": [
      "70/70 [==============================] - 11s 156ms/step - loss: 0.0371 - categorical_accuracy: 0.9982 - val_loss: 0.0645 - val_categorical_accuracy: 0.9919\n",
      "Epoch 50/100\n",
      "70/70 [==============================] - 11s 154ms/step - loss: 0.0362 - categorical_accuracy: 0.9991 - val_loss: 0.0728 - val_categorical_accuracy: 0.9892\n",
      "Epoch 51/100\n",
      "70/70 [==============================] - 11s 156ms/step - loss: 0.0376 - categorical_accuracy: 0.9991 - val_loss: 0.0708 - val_categorical_accuracy: 0.9905\n",
      "Epoch 52/100\n",
      "70/70 [==============================] - 11s 156ms/step - loss: 0.0366 - categorical_accuracy: 0.9986 - val_loss: 0.0684 - val_categorical_accuracy: 0.9905\n",
      "Epoch 53/100\n",
      "70/70 [==============================] - 11s 154ms/step - loss: 0.0361 - categorical_accuracy: 0.9977 - val_loss: 0.0617 - val_categorical_accuracy: 0.9905\n",
      "Epoch 54/100\n",
      "70/70 [==============================] - 11s 155ms/step - loss: 0.0355 - categorical_accuracy: 0.9986 - val_loss: 0.0580 - val_categorical_accuracy: 0.9932\n",
      "Epoch 55/100\n",
      "70/70 [==============================] - 11s 156ms/step - loss: 0.0341 - categorical_accuracy: 0.9995 - val_loss: 0.0600 - val_categorical_accuracy: 0.9905\n",
      "Epoch 56/100\n",
      "70/70 [==============================] - 11s 154ms/step - loss: 0.0325 - categorical_accuracy: 1.0000 - val_loss: 0.0672 - val_categorical_accuracy: 0.9892\n",
      "Epoch 57/100\n",
      "70/70 [==============================] - 11s 155ms/step - loss: 0.0407 - categorical_accuracy: 0.9964 - val_loss: 0.0774 - val_categorical_accuracy: 0.9878\n",
      "Epoch 58/100\n",
      "70/70 [==============================] - 11s 157ms/step - loss: 0.0408 - categorical_accuracy: 0.9955 - val_loss: 0.0721 - val_categorical_accuracy: 0.9878\n",
      "Epoch 59/100\n",
      "70/70 [==============================] - 11s 154ms/step - loss: 0.0329 - categorical_accuracy: 0.9982 - val_loss: 0.0668 - val_categorical_accuracy: 0.9892\n",
      "Epoch 60/100\n",
      "70/70 [==============================] - 11s 155ms/step - loss: 0.0347 - categorical_accuracy: 0.9968 - val_loss: 0.0623 - val_categorical_accuracy: 0.9878\n",
      "Epoch 61/100\n",
      "70/70 [==============================] - 11s 155ms/step - loss: 0.0322 - categorical_accuracy: 0.9991 - val_loss: 0.0655 - val_categorical_accuracy: 0.9905\n",
      "Epoch 62/100\n",
      "70/70 [==============================] - 11s 155ms/step - loss: 0.0364 - categorical_accuracy: 0.9973 - val_loss: 0.0560 - val_categorical_accuracy: 0.9905\n",
      "Epoch 63/100\n",
      "70/70 [==============================] - 11s 155ms/step - loss: 0.0309 - categorical_accuracy: 0.9986 - val_loss: 0.0570 - val_categorical_accuracy: 0.9919\n",
      "Epoch 64/100\n",
      "70/70 [==============================] - 11s 155ms/step - loss: 0.0293 - categorical_accuracy: 0.9995 - val_loss: 0.0580 - val_categorical_accuracy: 0.9905\n",
      "Epoch 65/100\n",
      "70/70 [==============================] - 11s 157ms/step - loss: 0.0312 - categorical_accuracy: 0.9986 - val_loss: 0.0579 - val_categorical_accuracy: 0.9892\n",
      "Epoch 66/100\n",
      "70/70 [==============================] - 11s 159ms/step - loss: 0.0299 - categorical_accuracy: 0.9986 - val_loss: 0.0618 - val_categorical_accuracy: 0.9892\n",
      "Epoch 67/100\n",
      "70/70 [==============================] - 11s 157ms/step - loss: 0.0275 - categorical_accuracy: 1.0000 - val_loss: 0.0635 - val_categorical_accuracy: 0.9905\n",
      "Epoch 68/100\n",
      "70/70 [==============================] - 11s 160ms/step - loss: 0.0288 - categorical_accuracy: 0.9986 - val_loss: 0.0646 - val_categorical_accuracy: 0.9892\n",
      "Epoch 69/100\n",
      "70/70 [==============================] - 11s 162ms/step - loss: 0.0314 - categorical_accuracy: 0.9982 - val_loss: 0.0684 - val_categorical_accuracy: 0.9905\n",
      "Epoch 70/100\n",
      "70/70 [==============================] - 11s 160ms/step - loss: 0.0273 - categorical_accuracy: 1.0000 - val_loss: 0.0678 - val_categorical_accuracy: 0.9892\n",
      "Epoch 71/100\n",
      "70/70 [==============================] - 11s 158ms/step - loss: 0.0306 - categorical_accuracy: 0.9982 - val_loss: 0.0649 - val_categorical_accuracy: 0.9892\n",
      "Epoch 72/100\n",
      "70/70 [==============================] - 11s 156ms/step - loss: 0.0275 - categorical_accuracy: 0.9995 - val_loss: 0.0536 - val_categorical_accuracy: 0.9919\n",
      "Epoch 73/100\n",
      "70/70 [==============================] - 11s 159ms/step - loss: 0.0266 - categorical_accuracy: 0.9991 - val_loss: 0.0593 - val_categorical_accuracy: 0.9905\n",
      "Epoch 74/100\n",
      "70/70 [==============================] - 11s 159ms/step - loss: 0.0278 - categorical_accuracy: 0.9986 - val_loss: 0.0604 - val_categorical_accuracy: 0.9905\n",
      "Epoch 75/100\n",
      "70/70 [==============================] - 12s 171ms/step - loss: 0.0314 - categorical_accuracy: 0.9973 - val_loss: 0.0582 - val_categorical_accuracy: 0.9892\n",
      "Epoch 76/100\n",
      "70/70 [==============================] - 12s 164ms/step - loss: 0.0312 - categorical_accuracy: 0.9973 - val_loss: 0.0515 - val_categorical_accuracy: 0.9905\n",
      "Epoch 77/100\n",
      "70/70 [==============================] - 11s 160ms/step - loss: 0.0269 - categorical_accuracy: 0.9991 - val_loss: 0.0597 - val_categorical_accuracy: 0.9892\n",
      "Epoch 78/100\n",
      "70/70 [==============================] - 12s 168ms/step - loss: 0.0243 - categorical_accuracy: 1.0000 - val_loss: 0.0643 - val_categorical_accuracy: 0.9878\n",
      "Epoch 79/100\n",
      "70/70 [==============================] - 11s 161ms/step - loss: 0.0248 - categorical_accuracy: 1.0000 - val_loss: 0.0653 - val_categorical_accuracy: 0.9892\n",
      "Epoch 80/100\n",
      "70/70 [==============================] - 11s 157ms/step - loss: 0.0263 - categorical_accuracy: 0.9982 - val_loss: 0.0615 - val_categorical_accuracy: 0.9892\n",
      "Epoch 81/100\n",
      "70/70 [==============================] - 11s 159ms/step - loss: 0.0255 - categorical_accuracy: 0.9991 - val_loss: 0.0588 - val_categorical_accuracy: 0.9892\n",
      "Epoch 82/100\n",
      "70/70 [==============================] - 11s 163ms/step - loss: 0.0285 - categorical_accuracy: 0.9977 - val_loss: 0.0550 - val_categorical_accuracy: 0.9878\n",
      "Epoch 83/100\n",
      "70/70 [==============================] - 11s 161ms/step - loss: 0.0271 - categorical_accuracy: 0.9986 - val_loss: 0.0555 - val_categorical_accuracy: 0.9892\n",
      "Epoch 84/100\n",
      "70/70 [==============================] - 11s 160ms/step - loss: 0.0306 - categorical_accuracy: 0.9973 - val_loss: 0.0512 - val_categorical_accuracy: 0.9892\n",
      "Epoch 85/100\n",
      "70/70 [==============================] - 12s 169ms/step - loss: 0.0244 - categorical_accuracy: 0.9995 - val_loss: 0.0588 - val_categorical_accuracy: 0.9892\n",
      "Epoch 86/100\n",
      "70/70 [==============================] - 11s 159ms/step - loss: 0.0255 - categorical_accuracy: 0.9986 - val_loss: 0.0507 - val_categorical_accuracy: 0.9932\n",
      "Epoch 87/100\n",
      "70/70 [==============================] - 11s 159ms/step - loss: 0.0275 - categorical_accuracy: 0.9986 - val_loss: 0.0591 - val_categorical_accuracy: 0.9878\n",
      "Epoch 88/100\n",
      "70/70 [==============================] - 11s 159ms/step - loss: 0.0246 - categorical_accuracy: 0.9991 - val_loss: 0.0519 - val_categorical_accuracy: 0.9905\n",
      "Epoch 89/100\n",
      "70/70 [==============================] - 11s 163ms/step - loss: 0.0232 - categorical_accuracy: 0.9986 - val_loss: 0.0560 - val_categorical_accuracy: 0.9905\n",
      "Epoch 90/100\n",
      "70/70 [==============================] - 11s 159ms/step - loss: 0.0266 - categorical_accuracy: 0.9973 - val_loss: 0.0512 - val_categorical_accuracy: 0.9919\n",
      "Epoch 91/100\n",
      "70/70 [==============================] - 12s 171ms/step - loss: 0.0235 - categorical_accuracy: 0.9991 - val_loss: 0.0534 - val_categorical_accuracy: 0.9905\n",
      "Epoch 92/100\n",
      "70/70 [==============================] - 12s 165ms/step - loss: 0.0248 - categorical_accuracy: 0.9995 - val_loss: 0.0523 - val_categorical_accuracy: 0.9892\n",
      "Epoch 93/100\n",
      "70/70 [==============================] - 12s 168ms/step - loss: 0.0242 - categorical_accuracy: 0.9991 - val_loss: 0.1160 - val_categorical_accuracy: 0.9905\n",
      "Epoch 94/100\n",
      "70/70 [==============================] - 11s 161ms/step - loss: 0.0265 - categorical_accuracy: 0.9968 - val_loss: 0.0651 - val_categorical_accuracy: 0.9892\n",
      "Epoch 95/100\n",
      "70/70 [==============================] - 11s 162ms/step - loss: 0.0224 - categorical_accuracy: 0.9995 - val_loss: 0.0631 - val_categorical_accuracy: 0.9878\n",
      "Epoch 96/100\n",
      "70/70 [==============================] - 11s 159ms/step - loss: 0.0232 - categorical_accuracy: 0.9986 - val_loss: 0.0537 - val_categorical_accuracy: 0.9905\n",
      "Epoch 97/100\n"
     ]
    },
    {
     "name": "stdout",
     "output_type": "stream",
     "text": [
      "70/70 [==============================] - 11s 161ms/step - loss: 0.0229 - categorical_accuracy: 0.9986 - val_loss: 0.0527 - val_categorical_accuracy: 0.9892\n",
      "Epoch 98/100\n",
      "70/70 [==============================] - 11s 159ms/step - loss: 0.0218 - categorical_accuracy: 0.9995 - val_loss: 0.0535 - val_categorical_accuracy: 0.9919\n",
      "Epoch 99/100\n",
      "70/70 [==============================] - 11s 161ms/step - loss: 0.0217 - categorical_accuracy: 1.0000 - val_loss: 0.0550 - val_categorical_accuracy: 0.9919\n",
      "Epoch 100/100\n",
      "70/70 [==============================] - 12s 171ms/step - loss: 0.0223 - categorical_accuracy: 0.9991 - val_loss: 0.0612 - val_categorical_accuracy: 0.9905\n"
     ]
    }
   ],
   "source": [
    "sgd = tf.keras.optimizers.SGD(lr=0.01, decay=1e-6, momentum=0.9, nesterov=True)\n",
    "model_shape_base.compile(optimizer=sgd,\n",
    "              loss=tf.keras.losses.CategoricalCrossentropy(from_logits=False),\n",
    "              metrics=['categorical_accuracy'])\n",
    "\n",
    "history = model_shape_base.fit_generator(train_generator, \n",
    "                                    validation_data = validation_generator, \n",
    "                                    epochs=100, verbose=1)"
   ]
  },
  {
   "cell_type": "code",
   "execution_count": 13,
   "id": "a5b3050c",
   "metadata": {},
   "outputs": [
    {
     "data": {
      "image/png": "[encoded data removed]",
      "text/plain": [
       "<Figure size 720x360 with 2 Axes>"
      ]
     },
     "metadata": {
      "needs_background": "light"
     },
     "output_type": "display_data"
    }
   ],
   "source": [
    "plt.figure(figsize=(10,5))\n",
    "plt.subplot(1,2,1)\n",
    "plt.plot(history.history['loss'], 'r--')\n",
    "plt.plot(history.history['val_loss'], 'b--')\n",
    "plt.xlabel(\"epochs\")\n",
    "plt.ylabel(\"Loss\")\n",
    "plt.legend(['train', 'val'], loc='upper left')\n",
    "\n",
    "plt.subplot(1,2,2)\n",
    "plt.plot(history.history['categorical_accuracy'], 'r--')\n",
    "plt.plot(history.history['val_categorical_accuracy'], 'b--')\n",
    "plt.xlabel(\"epochs\")\n",
    "plt.ylabel(\"Accuracy\")\n",
    "plt.legend(['train', 'val'], loc='upper left')\n",
    "plt.show()\n",
    "\n",
    "plt.show()"
   ]
  },
  {
   "cell_type": "markdown",
   "id": "27ffd8e0",
   "metadata": {},
   "source": [
    "### Testing Base Model"
   ]
  },
  {
   "cell_type": "markdown",
   "id": "5db14cc8",
   "metadata": {},
   "source": [
    "The following operation will test the trained model against the test data that was created during the data splitting."
   ]
  },
  {
   "cell_type": "code",
   "execution_count": 15,
   "id": "260355cb",
   "metadata": {},
   "outputs": [
    {
     "name": "stdout",
     "output_type": "stream",
     "text": [
      "Found 740 validated image filenames belonging to 5 classes.\n"
     ]
    },
    {
     "data": {
      "image/png": "[encoded data removed]",
      "text/plain": [
       "<Figure size 1152x720 with 4 Axes>"
      ]
     },
     "metadata": {
      "needs_background": "light"
     },
     "output_type": "display_data"
    }
   ],
   "source": [
    "test_datagen = ImageDataGenerator(rescale=1./255, data_format='channels_last')\n",
    "batch_size = 1\n",
    "\n",
    "test_generator = test_datagen.flow_from_dataframe(\n",
    "        dataframe=test_data,\n",
    "        directory='./',\n",
    "        x_col=\"image_path\",\n",
    "        y_col=\"Shape\",\n",
    "        target_size=(28, 28),\n",
    "        batch_size=batch_size,\n",
    "        class_mode='categorical')\n",
    "\n",
    "d_inv = {v: k for k, v in d.items()}\n",
    "\n",
    "plt.figure(figsize=(16,10))\n",
    "\n",
    "batches = 0\n",
    "\n",
    "for x,y in test_generator:\n",
    "       \n",
    "        batches = batches + 1\n",
    "        y_hat = model_shape_base.predict(x, verbose=0)\n",
    "        x = np.squeeze(x)\n",
    "        if batches < 5:\n",
    "            plt.subplot(1,4,batches)\n",
    "            plt.imshow(x)\n",
    "            plt.title(\"GT-{}, Pred-{}\".format(d_inv[np.argmax(y[0])], d_inv[np.argmax(y_hat[0])] ))\n",
    "            \n",
    "        else:\n",
    "            break\n",
    "        \n",
    "        plt.axis('off')"
   ]
  },
  {
   "cell_type": "markdown",
   "id": "2609faa9",
   "metadata": {},
   "source": [
    "## Data Augmented Model  <a class=\"anchor\" id=\"shapeA\"></a>"
   ]
  },
  {
   "cell_type": "markdown",
   "id": "d3b914ec",
   "metadata": {},
   "source": [
    "### Setting up Data Loaders\n",
    "Loads the images that are stored in the directory into the dataset as an array of numbers."
   ]
  },
  {
   "cell_type": "code",
   "execution_count": 16,
   "id": "89816891",
   "metadata": {},
   "outputs": [
    {
     "name": "stdout",
     "output_type": "stream",
     "text": [
      "Found 2219 validated image filenames belonging to 5 classes.\n",
      "Found 740 validated image filenames belonging to 5 classes.\n"
     ]
    }
   ],
   "source": [
    "from tensorflow.keras.preprocessing.image import ImageDataGenerator\n",
    "\n",
    "train_datagen = ImageDataGenerator(rescale=1./255, data_format='channels_last',\n",
    "                                  rotation_range=15, width_shift_range=0.2,\n",
    "                                  height_shift_range=0.2)\n",
    "val_datagen = ImageDataGenerator(rescale=1./255, data_format='channels_last')\n",
    "\n",
    "batch_size = 32\n",
    "\n",
    "train_generator = train_datagen.flow_from_dataframe(\n",
    "        dataframe=train_data,\n",
    "        directory='./',\n",
    "        x_col=\"image_path\",\n",
    "        y_col=\"Shape\",\n",
    "        target_size=(28, 28),\n",
    "        batch_size=batch_size,\n",
    "        class_mode='categorical')\n",
    "\n",
    "validation_generator = val_datagen.flow_from_dataframe(\n",
    "        dataframe=val_data,\n",
    "        directory='./',\n",
    "        x_col=\"image_path\",\n",
    "        y_col=\"Shape\",\n",
    "        target_size=(28, 28),\n",
    "        batch_size=batch_size,\n",
    "        class_mode='categorical')"
   ]
  },
  {
   "cell_type": "markdown",
   "id": "c3ceb924",
   "metadata": {},
   "source": [
    "### Setting Up Data Augmented Model"
   ]
  },
  {
   "cell_type": "code",
   "execution_count": 20,
   "id": "262c991e",
   "metadata": {},
   "outputs": [],
   "source": [
    "OUTPUT_CLASSES = 5\n",
    "model_shape_aug = model(OUTPUT_CLASSES)"
   ]
  },
  {
   "cell_type": "markdown",
   "id": "e9f68b23",
   "metadata": {},
   "source": [
    "### Training Data Augmented Model"
   ]
  },
  {
   "cell_type": "code",
   "execution_count": 19,
   "id": "94c29a7d",
   "metadata": {},
   "outputs": [
    {
     "name": "stdout",
     "output_type": "stream",
     "text": [
      "Epoch 1/150\n",
      "70/70 [==============================] - 12s 167ms/step - loss: 1.3601 - categorical_accuracy: 0.4642 - val_loss: 1.3223 - val_categorical_accuracy: 0.4703\n",
      "Epoch 2/150\n",
      "70/70 [==============================] - 12s 166ms/step - loss: 1.3123 - categorical_accuracy: 0.4808 - val_loss: 1.2808 - val_categorical_accuracy: 0.4703\n",
      "Epoch 3/150\n",
      "70/70 [==============================] - 12s 167ms/step - loss: 1.2921 - categorical_accuracy: 0.4822 - val_loss: 1.2600 - val_categorical_accuracy: 0.4703\n",
      "Epoch 4/150\n",
      "70/70 [==============================] - 11s 160ms/step - loss: 1.2753 - categorical_accuracy: 0.4836 - val_loss: 1.2145 - val_categorical_accuracy: 0.4959\n",
      "Epoch 5/150\n",
      "70/70 [==============================] - 11s 163ms/step - loss: 1.2456 - categorical_accuracy: 0.5016 - val_loss: 1.1480 - val_categorical_accuracy: 0.5230\n",
      "Epoch 6/150\n",
      "70/70 [==============================] - 11s 159ms/step - loss: 1.1872 - categorical_accuracy: 0.5304 - val_loss: 0.9716 - val_categorical_accuracy: 0.6230\n",
      "Epoch 7/150\n",
      "70/70 [==============================] - 11s 157ms/step - loss: 1.0820 - categorical_accuracy: 0.5922 - val_loss: 0.7753 - val_categorical_accuracy: 0.7514\n",
      "Epoch 8/150\n",
      "70/70 [==============================] - 11s 160ms/step - loss: 0.9638 - categorical_accuracy: 0.6467 - val_loss: 0.6762 - val_categorical_accuracy: 0.7608\n",
      "Epoch 9/150\n",
      "70/70 [==============================] - 11s 161ms/step - loss: 0.9079 - categorical_accuracy: 0.6679 - val_loss: 0.5823 - val_categorical_accuracy: 0.7838\n",
      "Epoch 10/150\n",
      "70/70 [==============================] - 11s 162ms/step - loss: 0.8383 - categorical_accuracy: 0.7161 - val_loss: 0.5261 - val_categorical_accuracy: 0.8014\n",
      "Epoch 11/150\n",
      "70/70 [==============================] - 11s 161ms/step - loss: 0.7871 - categorical_accuracy: 0.7346 - val_loss: 0.4613 - val_categorical_accuracy: 0.8189\n",
      "Epoch 12/150\n",
      "70/70 [==============================] - 11s 162ms/step - loss: 0.7300 - categorical_accuracy: 0.7454 - val_loss: 0.3749 - val_categorical_accuracy: 0.8878\n",
      "Epoch 13/150\n",
      "70/70 [==============================] - 11s 160ms/step - loss: 0.6986 - categorical_accuracy: 0.7679 - val_loss: 0.3431 - val_categorical_accuracy: 0.8959\n",
      "Epoch 14/150\n",
      "70/70 [==============================] - 11s 157ms/step - loss: 0.6268 - categorical_accuracy: 0.7846 - val_loss: 0.2673 - val_categorical_accuracy: 0.9378\n",
      "Epoch 15/150\n",
      "70/70 [==============================] - 11s 158ms/step - loss: 0.5880 - categorical_accuracy: 0.8071 - val_loss: 0.2099 - val_categorical_accuracy: 0.9541\n",
      "Epoch 16/150\n",
      "70/70 [==============================] - 11s 160ms/step - loss: 0.5531 - categorical_accuracy: 0.8310 - val_loss: 0.2203 - val_categorical_accuracy: 0.9500\n",
      "Epoch 17/150\n",
      "70/70 [==============================] - 11s 160ms/step - loss: 0.5336 - categorical_accuracy: 0.8260 - val_loss: 0.2152 - val_categorical_accuracy: 0.9378\n",
      "Epoch 18/150\n",
      "70/70 [==============================] - 12s 166ms/step - loss: 0.4820 - categorical_accuracy: 0.8562 - val_loss: 0.1768 - val_categorical_accuracy: 0.9649\n",
      "Epoch 19/150\n",
      "70/70 [==============================] - 11s 160ms/step - loss: 0.4759 - categorical_accuracy: 0.8598 - val_loss: 0.1952 - val_categorical_accuracy: 0.9689\n",
      "Epoch 20/150\n",
      "70/70 [==============================] - 11s 162ms/step - loss: 0.4292 - categorical_accuracy: 0.8698 - val_loss: 0.1690 - val_categorical_accuracy: 0.9662\n",
      "Epoch 21/150\n",
      "70/70 [==============================] - 11s 158ms/step - loss: 0.4046 - categorical_accuracy: 0.8869 - val_loss: 0.1530 - val_categorical_accuracy: 0.9743\n",
      "Epoch 22/150\n",
      "70/70 [==============================] - 11s 161ms/step - loss: 0.3939 - categorical_accuracy: 0.8887 - val_loss: 0.1857 - val_categorical_accuracy: 0.9635\n",
      "Epoch 23/150\n",
      "70/70 [==============================] - 12s 167ms/step - loss: 0.3795 - categorical_accuracy: 0.8837 - val_loss: 0.1439 - val_categorical_accuracy: 0.9797\n",
      "Epoch 24/150\n",
      "70/70 [==============================] - 11s 160ms/step - loss: 0.3578 - categorical_accuracy: 0.8936 - val_loss: 0.1290 - val_categorical_accuracy: 0.9757\n",
      "Epoch 25/150\n",
      "70/70 [==============================] - 11s 159ms/step - loss: 0.3405 - categorical_accuracy: 0.9027 - val_loss: 0.1351 - val_categorical_accuracy: 0.9770\n",
      "Epoch 26/150\n",
      "70/70 [==============================] - 11s 160ms/step - loss: 0.3660 - categorical_accuracy: 0.8991 - val_loss: 0.1445 - val_categorical_accuracy: 0.9797\n",
      "Epoch 27/150\n",
      "70/70 [==============================] - 11s 160ms/step - loss: 0.3308 - categorical_accuracy: 0.9130 - val_loss: 0.1317 - val_categorical_accuracy: 0.9770\n",
      "Epoch 28/150\n",
      "70/70 [==============================] - 11s 162ms/step - loss: 0.3251 - categorical_accuracy: 0.9139 - val_loss: 0.1171 - val_categorical_accuracy: 0.9811\n",
      "Epoch 29/150\n",
      "70/70 [==============================] - 11s 157ms/step - loss: 0.2957 - categorical_accuracy: 0.9220 - val_loss: 0.1289 - val_categorical_accuracy: 0.9797\n",
      "Epoch 30/150\n",
      "70/70 [==============================] - 11s 162ms/step - loss: 0.2904 - categorical_accuracy: 0.9180 - val_loss: 0.1187 - val_categorical_accuracy: 0.9797\n",
      "Epoch 31/150\n",
      "70/70 [==============================] - 11s 160ms/step - loss: 0.2896 - categorical_accuracy: 0.9220 - val_loss: 0.1228 - val_categorical_accuracy: 0.9797\n",
      "Epoch 32/150\n",
      "70/70 [==============================] - 11s 163ms/step - loss: 0.2721 - categorical_accuracy: 0.9247 - val_loss: 0.1104 - val_categorical_accuracy: 0.9851\n",
      "Epoch 33/150\n",
      "70/70 [==============================] - 11s 161ms/step - loss: 0.2685 - categorical_accuracy: 0.9292 - val_loss: 0.1243 - val_categorical_accuracy: 0.9824\n",
      "Epoch 34/150\n",
      "70/70 [==============================] - 11s 159ms/step - loss: 0.2721 - categorical_accuracy: 0.9333 - val_loss: 0.1086 - val_categorical_accuracy: 0.9851\n",
      "Epoch 35/150\n",
      "70/70 [==============================] - 11s 160ms/step - loss: 0.2417 - categorical_accuracy: 0.9414 - val_loss: 0.1195 - val_categorical_accuracy: 0.9838\n",
      "Epoch 36/150\n",
      "70/70 [==============================] - 11s 161ms/step - loss: 0.2554 - categorical_accuracy: 0.9329 - val_loss: 0.1209 - val_categorical_accuracy: 0.9838\n",
      "Epoch 37/150\n",
      "70/70 [==============================] - 11s 161ms/step - loss: 0.2439 - categorical_accuracy: 0.9396 - val_loss: 0.1136 - val_categorical_accuracy: 0.9838\n",
      "Epoch 38/150\n",
      "70/70 [==============================] - 11s 158ms/step - loss: 0.2622 - categorical_accuracy: 0.9315 - val_loss: 0.1081 - val_categorical_accuracy: 0.9892\n",
      "Epoch 39/150\n",
      "70/70 [==============================] - 11s 161ms/step - loss: 0.2198 - categorical_accuracy: 0.9491 - val_loss: 0.1139 - val_categorical_accuracy: 0.9865\n",
      "Epoch 40/150\n",
      "70/70 [==============================] - 11s 162ms/step - loss: 0.2555 - categorical_accuracy: 0.9374 - val_loss: 0.1053 - val_categorical_accuracy: 0.9892\n",
      "Epoch 41/150\n",
      "70/70 [==============================] - 11s 155ms/step - loss: 0.2035 - categorical_accuracy: 0.9527 - val_loss: 0.1068 - val_categorical_accuracy: 0.9892\n",
      "Epoch 42/150\n",
      "70/70 [==============================] - 11s 158ms/step - loss: 0.2413 - categorical_accuracy: 0.9383 - val_loss: 0.1031 - val_categorical_accuracy: 0.9878\n",
      "Epoch 43/150\n",
      "70/70 [==============================] - 11s 159ms/step - loss: 0.2323 - categorical_accuracy: 0.9432 - val_loss: 0.1122 - val_categorical_accuracy: 0.9878\n",
      "Epoch 44/150\n",
      "70/70 [==============================] - 11s 160ms/step - loss: 0.2179 - categorical_accuracy: 0.9495 - val_loss: 0.1059 - val_categorical_accuracy: 0.9878\n",
      "Epoch 45/150\n",
      "70/70 [==============================] - 12s 167ms/step - loss: 0.2075 - categorical_accuracy: 0.9509 - val_loss: 0.1179 - val_categorical_accuracy: 0.9878\n",
      "Epoch 46/150\n",
      "70/70 [==============================] - 11s 161ms/step - loss: 0.2147 - categorical_accuracy: 0.9486 - val_loss: 0.1073 - val_categorical_accuracy: 0.9878\n",
      "Epoch 47/150\n",
      "70/70 [==============================] - 11s 163ms/step - loss: 0.2138 - categorical_accuracy: 0.9504 - val_loss: 0.1092 - val_categorical_accuracy: 0.9878\n",
      "Epoch 48/150\n",
      "70/70 [==============================] - 12s 169ms/step - loss: 0.2079 - categorical_accuracy: 0.9504 - val_loss: 0.1008 - val_categorical_accuracy: 0.9905\n",
      "Epoch 49/150\n"
     ]
    },
    {
     "name": "stdout",
     "output_type": "stream",
     "text": [
      "70/70 [==============================] - 12s 175ms/step - loss: 0.1902 - categorical_accuracy: 0.9536 - val_loss: 0.1016 - val_categorical_accuracy: 0.9892\n",
      "Epoch 50/150\n",
      "70/70 [==============================] - 13s 186ms/step - loss: 0.2092 - categorical_accuracy: 0.9540 - val_loss: 0.0962 - val_categorical_accuracy: 0.9905\n",
      "Epoch 51/150\n",
      "70/70 [==============================] - 17s 250ms/step - loss: 0.2103 - categorical_accuracy: 0.9500 - val_loss: 0.0988 - val_categorical_accuracy: 0.9892\n",
      "Epoch 52/150\n",
      "70/70 [==============================] - 12s 167ms/step - loss: 0.1904 - categorical_accuracy: 0.9545 - val_loss: 0.0975 - val_categorical_accuracy: 0.9892\n",
      "Epoch 53/150\n",
      "70/70 [==============================] - 11s 162ms/step - loss: 0.1753 - categorical_accuracy: 0.9644 - val_loss: 0.0972 - val_categorical_accuracy: 0.9905\n",
      "Epoch 54/150\n",
      "70/70 [==============================] - 13s 181ms/step - loss: 0.1826 - categorical_accuracy: 0.9572 - val_loss: 0.0912 - val_categorical_accuracy: 0.9919\n",
      "Epoch 55/150\n",
      "70/70 [==============================] - 11s 161ms/step - loss: 0.1923 - categorical_accuracy: 0.9554 - val_loss: 0.1019 - val_categorical_accuracy: 0.9892\n",
      "Epoch 56/150\n",
      "70/70 [==============================] - 11s 164ms/step - loss: 0.1819 - categorical_accuracy: 0.9594 - val_loss: 0.0995 - val_categorical_accuracy: 0.9892\n",
      "Epoch 57/150\n",
      "70/70 [==============================] - 11s 158ms/step - loss: 0.1719 - categorical_accuracy: 0.9621 - val_loss: 0.0860 - val_categorical_accuracy: 0.9932\n",
      "Epoch 58/150\n",
      "70/70 [==============================] - 12s 168ms/step - loss: 0.1614 - categorical_accuracy: 0.9639 - val_loss: 0.0863 - val_categorical_accuracy: 0.9946\n",
      "Epoch 59/150\n",
      "70/70 [==============================] - 13s 179ms/step - loss: 0.1888 - categorical_accuracy: 0.9635 - val_loss: 0.0906 - val_categorical_accuracy: 0.9905\n",
      "Epoch 60/150\n",
      "70/70 [==============================] - 12s 167ms/step - loss: 0.1729 - categorical_accuracy: 0.9630 - val_loss: 0.0914 - val_categorical_accuracy: 0.9932\n",
      "Epoch 61/150\n",
      "70/70 [==============================] - 12s 168ms/step - loss: 0.1779 - categorical_accuracy: 0.9612 - val_loss: 0.0923 - val_categorical_accuracy: 0.9905\n",
      "Epoch 62/150\n",
      "70/70 [==============================] - 11s 160ms/step - loss: 0.1834 - categorical_accuracy: 0.9581 - val_loss: 0.0888 - val_categorical_accuracy: 0.9932\n",
      "Epoch 63/150\n",
      "70/70 [==============================] - 11s 159ms/step - loss: 0.1929 - categorical_accuracy: 0.9590 - val_loss: 0.0972 - val_categorical_accuracy: 0.9919\n",
      "Epoch 64/150\n",
      "70/70 [==============================] - 11s 159ms/step - loss: 0.1846 - categorical_accuracy: 0.9594 - val_loss: 0.0885 - val_categorical_accuracy: 0.9932\n",
      "Epoch 65/150\n",
      "70/70 [==============================] - 11s 158ms/step - loss: 0.1652 - categorical_accuracy: 0.9658 - val_loss: 0.0841 - val_categorical_accuracy: 0.9932\n",
      "Epoch 66/150\n",
      "70/70 [==============================] - 11s 159ms/step - loss: 0.1612 - categorical_accuracy: 0.9667 - val_loss: 0.0965 - val_categorical_accuracy: 0.9892\n",
      "Epoch 67/150\n",
      "70/70 [==============================] - 11s 157ms/step - loss: 0.1564 - categorical_accuracy: 0.9685 - val_loss: 0.0864 - val_categorical_accuracy: 0.9946\n",
      "Epoch 68/150\n",
      "70/70 [==============================] - 12s 171ms/step - loss: 0.1620 - categorical_accuracy: 0.9667 - val_loss: 0.0951 - val_categorical_accuracy: 0.9919\n",
      "Epoch 69/150\n",
      "70/70 [==============================] - 11s 159ms/step - loss: 0.1461 - categorical_accuracy: 0.9703 - val_loss: 0.0894 - val_categorical_accuracy: 0.9932\n",
      "Epoch 70/150\n",
      "70/70 [==============================] - 11s 159ms/step - loss: 0.1462 - categorical_accuracy: 0.9676 - val_loss: 0.0940 - val_categorical_accuracy: 0.9932\n",
      "Epoch 71/150\n",
      "70/70 [==============================] - 11s 158ms/step - loss: 0.1432 - categorical_accuracy: 0.9739 - val_loss: 0.0990 - val_categorical_accuracy: 0.9892\n",
      "Epoch 72/150\n",
      "70/70 [==============================] - 11s 159ms/step - loss: 0.1624 - categorical_accuracy: 0.9648 - val_loss: 0.0910 - val_categorical_accuracy: 0.9932\n",
      "Epoch 73/150\n",
      "70/70 [==============================] - 11s 158ms/step - loss: 0.1583 - categorical_accuracy: 0.9680 - val_loss: 0.0940 - val_categorical_accuracy: 0.9892\n",
      "Epoch 74/150\n",
      "70/70 [==============================] - 11s 158ms/step - loss: 0.1323 - categorical_accuracy: 0.9788 - val_loss: 0.0922 - val_categorical_accuracy: 0.9932\n",
      "Epoch 75/150\n",
      "70/70 [==============================] - 11s 159ms/step - loss: 0.1461 - categorical_accuracy: 0.9721 - val_loss: 0.0881 - val_categorical_accuracy: 0.9932\n",
      "Epoch 76/150\n",
      "70/70 [==============================] - 11s 159ms/step - loss: 0.1523 - categorical_accuracy: 0.9680 - val_loss: 0.0878 - val_categorical_accuracy: 0.9905\n",
      "Epoch 77/150\n",
      "70/70 [==============================] - 11s 156ms/step - loss: 0.1527 - categorical_accuracy: 0.9685 - val_loss: 0.0847 - val_categorical_accuracy: 0.9932\n",
      "Epoch 78/150\n",
      "70/70 [==============================] - 12s 166ms/step - loss: 0.1550 - categorical_accuracy: 0.9725 - val_loss: 0.0865 - val_categorical_accuracy: 0.9919\n",
      "Epoch 79/150\n",
      "70/70 [==============================] - 11s 163ms/step - loss: 0.1529 - categorical_accuracy: 0.9725 - val_loss: 0.0977 - val_categorical_accuracy: 0.9905\n",
      "Epoch 80/150\n",
      "70/70 [==============================] - 11s 159ms/step - loss: 0.1413 - categorical_accuracy: 0.9761 - val_loss: 0.0869 - val_categorical_accuracy: 0.9932\n",
      "Epoch 81/150\n",
      "70/70 [==============================] - 11s 157ms/step - loss: 0.1267 - categorical_accuracy: 0.9779 - val_loss: 0.0919 - val_categorical_accuracy: 0.9905\n",
      "Epoch 82/150\n",
      "70/70 [==============================] - 11s 157ms/step - loss: 0.1345 - categorical_accuracy: 0.9761 - val_loss: 0.0856 - val_categorical_accuracy: 0.9892\n",
      "Epoch 83/150\n",
      "70/70 [==============================] - 11s 157ms/step - loss: 0.1394 - categorical_accuracy: 0.9752 - val_loss: 0.0838 - val_categorical_accuracy: 0.9919\n",
      "Epoch 84/150\n",
      "70/70 [==============================] - 11s 158ms/step - loss: 0.1290 - categorical_accuracy: 0.9766 - val_loss: 0.0814 - val_categorical_accuracy: 0.9932\n",
      "Epoch 85/150\n",
      "70/70 [==============================] - 11s 158ms/step - loss: 0.1296 - categorical_accuracy: 0.9752 - val_loss: 0.0980 - val_categorical_accuracy: 0.9919\n",
      "Epoch 86/150\n",
      "70/70 [==============================] - 11s 158ms/step - loss: 0.1519 - categorical_accuracy: 0.9698 - val_loss: 0.0853 - val_categorical_accuracy: 0.9946\n",
      "Epoch 87/150\n",
      "70/70 [==============================] - 11s 159ms/step - loss: 0.1318 - categorical_accuracy: 0.9743 - val_loss: 0.0822 - val_categorical_accuracy: 0.9946\n",
      "Epoch 88/150\n",
      "70/70 [==============================] - 11s 161ms/step - loss: 0.1348 - categorical_accuracy: 0.9770 - val_loss: 0.0876 - val_categorical_accuracy: 0.9932\n",
      "Epoch 89/150\n",
      "70/70 [==============================] - 11s 160ms/step - loss: 0.1336 - categorical_accuracy: 0.9730 - val_loss: 0.0840 - val_categorical_accuracy: 0.9946\n",
      "Epoch 90/150\n",
      "70/70 [==============================] - 11s 161ms/step - loss: 0.1353 - categorical_accuracy: 0.9734 - val_loss: 0.0836 - val_categorical_accuracy: 0.9946\n",
      "Epoch 91/150\n",
      "70/70 [==============================] - 12s 165ms/step - loss: 0.1167 - categorical_accuracy: 0.9833 - val_loss: 0.0801 - val_categorical_accuracy: 0.9946\n",
      "Epoch 92/150\n",
      "70/70 [==============================] - 11s 161ms/step - loss: 0.1451 - categorical_accuracy: 0.9725 - val_loss: 0.0882 - val_categorical_accuracy: 0.9932\n",
      "Epoch 93/150\n",
      "70/70 [==============================] - 11s 160ms/step - loss: 0.1227 - categorical_accuracy: 0.9797 - val_loss: 0.0797 - val_categorical_accuracy: 0.9932\n",
      "Epoch 94/150\n",
      "70/70 [==============================] - 12s 166ms/step - loss: 0.1183 - categorical_accuracy: 0.9829 - val_loss: 0.0862 - val_categorical_accuracy: 0.9932\n",
      "Epoch 95/150\n",
      "70/70 [==============================] - 11s 163ms/step - loss: 0.1253 - categorical_accuracy: 0.9752 - val_loss: 0.0917 - val_categorical_accuracy: 0.9892\n",
      "Epoch 96/150\n",
      "70/70 [==============================] - 11s 161ms/step - loss: 0.1411 - categorical_accuracy: 0.9698 - val_loss: 0.0819 - val_categorical_accuracy: 0.9932\n",
      "Epoch 97/150\n"
     ]
    },
    {
     "name": "stdout",
     "output_type": "stream",
     "text": [
      "70/70 [==============================] - 11s 160ms/step - loss: 0.1283 - categorical_accuracy: 0.9730 - val_loss: 0.0821 - val_categorical_accuracy: 0.9919\n",
      "Epoch 98/150\n",
      "70/70 [==============================] - 11s 159ms/step - loss: 0.1409 - categorical_accuracy: 0.9707 - val_loss: 0.0816 - val_categorical_accuracy: 0.9932\n",
      "Epoch 99/150\n",
      "70/70 [==============================] - 11s 160ms/step - loss: 0.1251 - categorical_accuracy: 0.9784 - val_loss: 0.0799 - val_categorical_accuracy: 0.9932\n",
      "Epoch 100/150\n",
      "70/70 [==============================] - 11s 159ms/step - loss: 0.1164 - categorical_accuracy: 0.9784 - val_loss: 0.0835 - val_categorical_accuracy: 0.9919\n",
      "Epoch 101/150\n",
      "70/70 [==============================] - 11s 156ms/step - loss: 0.1237 - categorical_accuracy: 0.9775 - val_loss: 0.0808 - val_categorical_accuracy: 0.9919\n",
      "Epoch 102/150\n",
      "70/70 [==============================] - 11s 159ms/step - loss: 0.1151 - categorical_accuracy: 0.9842 - val_loss: 0.0807 - val_categorical_accuracy: 0.9919\n",
      "Epoch 103/150\n",
      "70/70 [==============================] - 11s 159ms/step - loss: 0.1185 - categorical_accuracy: 0.9779 - val_loss: 0.0725 - val_categorical_accuracy: 0.9959\n",
      "Epoch 104/150\n",
      "70/70 [==============================] - 11s 159ms/step - loss: 0.1266 - categorical_accuracy: 0.9734 - val_loss: 0.0877 - val_categorical_accuracy: 0.9932\n",
      "Epoch 105/150\n",
      "70/70 [==============================] - 11s 162ms/step - loss: 0.1291 - categorical_accuracy: 0.9730 - val_loss: 0.0769 - val_categorical_accuracy: 0.9946\n",
      "Epoch 106/150\n",
      "70/70 [==============================] - 11s 158ms/step - loss: 0.1140 - categorical_accuracy: 0.9811 - val_loss: 0.0789 - val_categorical_accuracy: 0.9892\n",
      "Epoch 107/150\n",
      "70/70 [==============================] - 11s 160ms/step - loss: 0.1116 - categorical_accuracy: 0.9797 - val_loss: 0.0879 - val_categorical_accuracy: 0.9905\n",
      "Epoch 108/150\n",
      "70/70 [==============================] - 12s 165ms/step - loss: 0.1297 - categorical_accuracy: 0.9766 - val_loss: 0.0814 - val_categorical_accuracy: 0.9919\n",
      "Epoch 109/150\n",
      "70/70 [==============================] - 15s 215ms/step - loss: 0.1151 - categorical_accuracy: 0.9833 - val_loss: 0.0719 - val_categorical_accuracy: 0.9932\n",
      "Epoch 110/150\n",
      "70/70 [==============================] - 12s 173ms/step - loss: 0.1186 - categorical_accuracy: 0.9806 - val_loss: 0.0817 - val_categorical_accuracy: 0.9919\n",
      "Epoch 111/150\n",
      "70/70 [==============================] - 12s 176ms/step - loss: 0.1136 - categorical_accuracy: 0.9806 - val_loss: 0.0754 - val_categorical_accuracy: 0.9932\n",
      "Epoch 112/150\n",
      "70/70 [==============================] - 12s 178ms/step - loss: 0.1331 - categorical_accuracy: 0.9743 - val_loss: 0.0797 - val_categorical_accuracy: 0.9919\n",
      "Epoch 113/150\n",
      "70/70 [==============================] - 12s 178ms/step - loss: 0.1095 - categorical_accuracy: 0.9788 - val_loss: 0.0807 - val_categorical_accuracy: 0.9905\n",
      "Epoch 114/150\n",
      "70/70 [==============================] - 14s 195ms/step - loss: 0.1119 - categorical_accuracy: 0.9775 - val_loss: 0.0880 - val_categorical_accuracy: 0.9932\n",
      "Epoch 115/150\n",
      "70/70 [==============================] - 20s 282ms/step - loss: 0.1187 - categorical_accuracy: 0.9793 - val_loss: 0.0806 - val_categorical_accuracy: 0.9919\n",
      "Epoch 116/150\n",
      "70/70 [==============================] - 14s 205ms/step - loss: 0.1254 - categorical_accuracy: 0.9802 - val_loss: 0.0728 - val_categorical_accuracy: 0.9932\n",
      "Epoch 117/150\n",
      "70/70 [==============================] - 21s 295ms/step - loss: 0.1271 - categorical_accuracy: 0.9802 - val_loss: 0.0776 - val_categorical_accuracy: 0.9919\n",
      "Epoch 118/150\n",
      "70/70 [==============================] - 19s 266ms/step - loss: 0.1198 - categorical_accuracy: 0.9806 - val_loss: 0.0778 - val_categorical_accuracy: 0.9905\n",
      "Epoch 119/150\n",
      "70/70 [==============================] - 13s 186ms/step - loss: 0.1120 - categorical_accuracy: 0.9815 - val_loss: 0.0892 - val_categorical_accuracy: 0.9892\n",
      "Epoch 120/150\n",
      "70/70 [==============================] - 12s 166ms/step - loss: 0.1116 - categorical_accuracy: 0.9811 - val_loss: 0.0810 - val_categorical_accuracy: 0.9932\n",
      "Epoch 121/150\n",
      "70/70 [==============================] - 12s 165ms/step - loss: 0.1157 - categorical_accuracy: 0.9775 - val_loss: 0.0707 - val_categorical_accuracy: 0.9946\n",
      "Epoch 122/150\n",
      "70/70 [==============================] - 12s 171ms/step - loss: 0.0978 - categorical_accuracy: 0.9860 - val_loss: 0.0694 - val_categorical_accuracy: 0.9946\n",
      "Epoch 123/150\n",
      "70/70 [==============================] - 13s 182ms/step - loss: 0.0935 - categorical_accuracy: 0.9869 - val_loss: 0.0736 - val_categorical_accuracy: 0.9932\n",
      "Epoch 124/150\n",
      "70/70 [==============================] - 13s 180ms/step - loss: 0.1169 - categorical_accuracy: 0.9824 - val_loss: 0.0738 - val_categorical_accuracy: 0.9946\n",
      "Epoch 125/150\n",
      "70/70 [==============================] - 13s 185ms/step - loss: 0.1153 - categorical_accuracy: 0.9820 - val_loss: 0.0807 - val_categorical_accuracy: 0.9932\n",
      "Epoch 126/150\n",
      "70/70 [==============================] - 13s 182ms/step - loss: 0.1002 - categorical_accuracy: 0.9851 - val_loss: 0.0797 - val_categorical_accuracy: 0.9919\n",
      "Epoch 127/150\n",
      "70/70 [==============================] - 14s 198ms/step - loss: 0.1106 - categorical_accuracy: 0.9806 - val_loss: 0.0838 - val_categorical_accuracy: 0.9932\n",
      "Epoch 128/150\n",
      "70/70 [==============================] - 15s 216ms/step - loss: 0.1342 - categorical_accuracy: 0.9788 - val_loss: 0.0974 - val_categorical_accuracy: 0.9878\n",
      "Epoch 129/150\n",
      "70/70 [==============================] - 19s 266ms/step - loss: 0.1273 - categorical_accuracy: 0.9730 - val_loss: 0.0777 - val_categorical_accuracy: 0.9919\n",
      "Epoch 130/150\n",
      "70/70 [==============================] - 14s 204ms/step - loss: 0.1138 - categorical_accuracy: 0.9797 - val_loss: 0.0724 - val_categorical_accuracy: 0.9946\n",
      "Epoch 131/150\n",
      "70/70 [==============================] - 13s 186ms/step - loss: 0.1106 - categorical_accuracy: 0.9829 - val_loss: 0.0740 - val_categorical_accuracy: 0.9946\n",
      "Epoch 132/150\n",
      "70/70 [==============================] - 13s 182ms/step - loss: 0.1247 - categorical_accuracy: 0.9784 - val_loss: 0.0728 - val_categorical_accuracy: 0.9919\n",
      "Epoch 133/150\n",
      "70/70 [==============================] - 21s 300ms/step - loss: 0.1100 - categorical_accuracy: 0.9829 - val_loss: 0.0810 - val_categorical_accuracy: 0.9932\n",
      "Epoch 134/150\n",
      "70/70 [==============================] - 19s 275ms/step - loss: 0.1027 - categorical_accuracy: 0.9806 - val_loss: 0.0839 - val_categorical_accuracy: 0.9932\n",
      "Epoch 135/150\n",
      "70/70 [==============================] - 13s 185ms/step - loss: 0.1033 - categorical_accuracy: 0.9856 - val_loss: 0.0748 - val_categorical_accuracy: 0.9946\n",
      "Epoch 136/150\n",
      "70/70 [==============================] - 12s 176ms/step - loss: 0.0979 - categorical_accuracy: 0.9829 - val_loss: 0.0720 - val_categorical_accuracy: 0.9946\n",
      "Epoch 137/150\n",
      "70/70 [==============================] - 13s 186ms/step - loss: 0.1042 - categorical_accuracy: 0.9793 - val_loss: 0.0715 - val_categorical_accuracy: 0.9919\n",
      "Epoch 138/150\n",
      "70/70 [==============================] - 14s 196ms/step - loss: 0.1195 - categorical_accuracy: 0.9788 - val_loss: 0.0746 - val_categorical_accuracy: 0.9905\n",
      "Epoch 139/150\n",
      "70/70 [==============================] - 13s 184ms/step - loss: 0.1030 - categorical_accuracy: 0.9842 - val_loss: 0.0716 - val_categorical_accuracy: 0.9932\n",
      "Epoch 140/150\n",
      "70/70 [==============================] - 13s 190ms/step - loss: 0.0882 - categorical_accuracy: 0.9905 - val_loss: 0.0760 - val_categorical_accuracy: 0.9932\n",
      "Epoch 141/150\n",
      "70/70 [==============================] - 13s 189ms/step - loss: 0.1190 - categorical_accuracy: 0.9811 - val_loss: 0.1130 - val_categorical_accuracy: 0.9919\n",
      "Epoch 142/150\n",
      "70/70 [==============================] - 11s 164ms/step - loss: 0.1020 - categorical_accuracy: 0.9797 - val_loss: 0.0857 - val_categorical_accuracy: 0.9919\n",
      "Epoch 143/150\n",
      "70/70 [==============================] - 12s 168ms/step - loss: 0.0988 - categorical_accuracy: 0.9860 - val_loss: 0.0766 - val_categorical_accuracy: 0.9932\n",
      "Epoch 144/150\n",
      "70/70 [==============================] - 12s 173ms/step - loss: 0.1047 - categorical_accuracy: 0.9815 - val_loss: 0.0762 - val_categorical_accuracy: 0.9905\n",
      "Epoch 145/150\n"
     ]
    },
    {
     "name": "stdout",
     "output_type": "stream",
     "text": [
      "70/70 [==============================] - 12s 179ms/step - loss: 0.0935 - categorical_accuracy: 0.9856 - val_loss: 0.0759 - val_categorical_accuracy: 0.9919\n",
      "Epoch 146/150\n",
      "70/70 [==============================] - 13s 184ms/step - loss: 0.1149 - categorical_accuracy: 0.9802 - val_loss: 0.0845 - val_categorical_accuracy: 0.9878\n",
      "Epoch 147/150\n",
      "70/70 [==============================] - 13s 191ms/step - loss: 0.0948 - categorical_accuracy: 0.9856 - val_loss: 0.0704 - val_categorical_accuracy: 0.9946\n",
      "Epoch 148/150\n",
      "70/70 [==============================] - 12s 178ms/step - loss: 0.0968 - categorical_accuracy: 0.9851 - val_loss: 0.0808 - val_categorical_accuracy: 0.9905\n",
      "Epoch 149/150\n",
      "70/70 [==============================] - 12s 171ms/step - loss: 0.0995 - categorical_accuracy: 0.9815 - val_loss: 0.0927 - val_categorical_accuracy: 0.9905\n",
      "Epoch 150/150\n",
      "70/70 [==============================] - 12s 170ms/step - loss: 0.0947 - categorical_accuracy: 0.9842 - val_loss: 0.0734 - val_categorical_accuracy: 0.9919\n"
     ]
    }
   ],
   "source": [
    "model_shape_aug.compile(optimizer=sgd,\n",
    "              loss=tf.keras.losses.CategoricalCrossentropy(from_logits=False),\n",
    "              metrics=['categorical_accuracy'])\n",
    "\n",
    "history = model_shape_aug.fit_generator(train_generator, \n",
    "                                    validation_data = validation_generator, \n",
    "                                    epochs=150, verbose=1)"
   ]
  },
  {
   "cell_type": "code",
   "execution_count": 21,
   "id": "6276b989",
   "metadata": {},
   "outputs": [
    {
     "data": {
      "image/png": "[encoded data removed]",
      "text/plain": [
       "<Figure size 720x360 with 2 Axes>"
      ]
     },
     "metadata": {
      "needs_background": "light"
     },
     "output_type": "display_data"
    }
   ],
   "source": [
    "plt.figure(figsize=(10,5))\n",
    "plt.subplot(1,2,1)\n",
    "plt.plot(history.history['loss'], 'r--')\n",
    "plt.plot(history.history['val_loss'], 'b--')\n",
    "plt.xlabel(\"epochs\")\n",
    "plt.ylabel(\"Loss\")\n",
    "plt.legend(['train', 'val'], loc='upper left')\n",
    "\n",
    "plt.subplot(1,2,2)\n",
    "plt.plot(history.history['categorical_accuracy'], 'r--')\n",
    "plt.plot(history.history['val_categorical_accuracy'], 'b--')\n",
    "plt.xlabel(\"epochs\")\n",
    "plt.ylabel(\"Accuracy\")\n",
    "plt.legend(['train', 'val'], loc='upper left')\n",
    "plt.show()\n",
    "\n",
    "plt.show()"
   ]
  },
  {
   "cell_type": "markdown",
   "id": "5f232801",
   "metadata": {},
   "source": [
    "### Testing Data Augmented Model"
   ]
  },
  {
   "cell_type": "code",
   "execution_count": 23,
   "id": "79225881",
   "metadata": {},
   "outputs": [
    {
     "name": "stdout",
     "output_type": "stream",
     "text": [
      "Found 740 validated image filenames belonging to 5 classes.\n"
     ]
    },
    {
     "data": {
      "image/png": "[encoded data removed]",
      "text/plain": [
       "<Figure size 1152x720 with 4 Axes>"
      ]
     },
     "metadata": {
      "needs_background": "light"
     },
     "output_type": "display_data"
    }
   ],
   "source": [
    "test_datagen = ImageDataGenerator(rescale=1./255, data_format='channels_last')\n",
    "batch_size = 1\n",
    "\n",
    "test_generator = test_datagen.flow_from_dataframe(\n",
    "        dataframe=test_data,\n",
    "        directory='./',\n",
    "        x_col=\"image_path\",\n",
    "        y_col=\"Shape\",\n",
    "        target_size=(28, 28),\n",
    "        batch_size=batch_size,\n",
    "        class_mode='categorical')\n",
    "\n",
    "d_inv = {v: k for k, v in d.items()}\n",
    "plt.figure(figsize=(16,10))\n",
    "\n",
    "batches = 0\n",
    "\n",
    "for x,y in test_generator:\n",
    "       \n",
    "        batches = batches + 1\n",
    "        y_hat = model_shape_aug.predict(x, verbose=0)\n",
    "        x = np.squeeze(x)\n",
    "        if batches < 5:\n",
    "            plt.subplot(1,4,batches)\n",
    "            plt.imshow(x)\n",
    "            plt.title(\"GT-{}, Pred-{}\".format(d_inv[np.argmax(y[0])], d_inv[np.argmax(y_hat[0])] ))\n",
    "            \n",
    "        else:\n",
    "            break\n",
    "        \n",
    "        plt.axis('off')"
   ]
  },
  {
   "cell_type": "markdown",
   "id": "7f131a76",
   "metadata": {},
   "source": [
    "## Classifying Images According to Sign Type  <a class=\"anchor\" id=\"type\"></a>\n",
    "For this next section we are going to train a model to classify the different types of signs (giveway,stop, etc). Like with classifying the shape of a sign there are going to be two models produced and compared. One which hasn't had the data modified and one in which the data was augmented."
   ]
  },
  {
   "cell_type": "markdown",
   "id": "505f637d",
   "metadata": {},
   "source": [
    "## Base Model\n",
    "### Setting Up Data Loaders"
   ]
  },
  {
   "cell_type": "code",
   "execution_count": 24,
   "id": "6b0e9d30",
   "metadata": {},
   "outputs": [
    {
     "name": "stdout",
     "output_type": "stream",
     "text": [
      "Found 2219 validated image filenames belonging to 16 classes.\n",
      "Found 740 validated image filenames belonging to 16 classes.\n"
     ]
    }
   ],
   "source": [
    "from tensorflow.keras.preprocessing.image import ImageDataGenerator\n",
    "\n",
    "train_datagen = ImageDataGenerator(rescale=1./255, data_format='channels_last')\n",
    "val_datagen = ImageDataGenerator(rescale=1./255, data_format='channels_last')\n",
    "\n",
    "\n",
    "batch_size = 32\n",
    "\n",
    "train_generator = train_datagen.flow_from_dataframe(\n",
    "        dataframe=train_data,\n",
    "        directory='./',\n",
    "        x_col=\"image_path\",\n",
    "        y_col=\"Type\",\n",
    "        target_size=(28, 28),\n",
    "        batch_size=batch_size,\n",
    "        class_mode='categorical')\n",
    "\n",
    "validation_generator = val_datagen.flow_from_dataframe(\n",
    "        dataframe=val_data,\n",
    "        directory='./',\n",
    "        x_col=\"image_path\",\n",
    "        y_col=\"Type\",\n",
    "        target_size=(28, 28),\n",
    "        batch_size=batch_size,\n",
    "        class_mode='categorical')"
   ]
  },
  {
   "cell_type": "markdown",
   "id": "cefb463c",
   "metadata": {},
   "source": [
    "### Setting Up Base Model  <a class=\"anchor\" id=\"typeB\"></a>\n",
    "The following operation creates the archicture of the model.\n",
    "- The model for classifying the shape has 16 classes (stop, speed, warning, parking, rightofway, bicycle, limitedtraffic, noentry, noparking, roundabout, trafficdirective, traveldirection, continue, crossing, laneend, giveway)"
   ]
  },
  {
   "cell_type": "code",
   "execution_count": 25,
   "id": "271e7f94",
   "metadata": {},
   "outputs": [],
   "source": [
    "OUTPUT_CLASSES = 16\n",
    "model_type_base = model(OUTPUT_CLASSES)"
   ]
  },
  {
   "cell_type": "markdown",
   "id": "255fac3e",
   "metadata": {},
   "source": [
    "### Training Base Model"
   ]
  },
  {
   "cell_type": "code",
   "execution_count": 27,
   "id": "edbe5313",
   "metadata": {},
   "outputs": [],
   "source": [
    "sgd = tf.keras.optimizers.SGD(lr=0.01, decay=1e-6, momentum=0.9, nesterov=True)\n",
    "model_type_base.compile(optimizer=sgd,\n",
    "              loss=tf.keras.losses.CategoricalCrossentropy(from_logits=False),\n",
    "              metrics=['categorical_accuracy'])\n",
    "\n",
    "history = model_type_base.fit_generator(train_generator, \n",
    "                                    validation_data = validation_generator, \n",
    "                                    epochs=100, verbose=0)"
   ]
  },
  {
   "cell_type": "code",
   "execution_count": 101,
   "id": "4808c21b",
   "metadata": {
    "scrolled": true
   },
   "outputs": [
    {
     "data": {
      "image/png": "[encoded data removed]",
      "text/plain": [
       "<Figure size 720x360 with 2 Axes>"
      ]
     },
     "metadata": {
      "needs_background": "light"
     },
     "output_type": "display_data"
    }
   ],
   "source": [
    "plt.figure(figsize=(10,5))\n",
    "plt.subplot(1,2,1)\n",
    "plt.plot(history.history['loss'], 'r--')\n",
    "plt.plot(history.history['val_loss'], 'b--')\n",
    "plt.xlabel(\"epochs\")\n",
    "plt.ylabel(\"Loss\")\n",
    "plt.legend(['train', 'val'], loc='upper left')\n",
    "\n",
    "plt.subplot(1,2,2)\n",
    "plt.plot(history.history['categorical_accuracy'], 'r--')\n",
    "plt.plot(history.history['val_categorical_accuracy'], 'b--')\n",
    "plt.xlabel(\"epochs\")\n",
    "plt.ylabel(\"Accuracy\")\n",
    "plt.legend(['train', 'val'], loc='upper left')\n",
    "plt.show()\n",
    "\n",
    "plt.show()"
   ]
  },
  {
   "cell_type": "markdown",
   "id": "3be11155",
   "metadata": {},
   "source": [
    "### Testing Base Model"
   ]
  },
  {
   "cell_type": "code",
   "execution_count": 104,
   "id": "19838fdd",
   "metadata": {},
   "outputs": [
    {
     "name": "stdout",
     "output_type": "stream",
     "text": [
      "Found 740 validated image filenames belonging to 16 classes.\n"
     ]
    },
    {
     "data": {
      "image/png": "[encoded data removed]",
      "text/plain": [
       "<Figure size 1152x720 with 4 Axes>"
      ]
     },
     "metadata": {
      "needs_background": "light"
     },
     "output_type": "display_data"
    }
   ],
   "source": [
    "test_datagen = ImageDataGenerator(rescale=1./255, data_format='channels_last')\n",
    "batch_size = 1\n",
    "\n",
    "test_generator = test_datagen.flow_from_dataframe(\n",
    "        dataframe=test_data,\n",
    "        directory='./',\n",
    "        x_col=\"image_path\",\n",
    "        y_col=\"Type\",\n",
    "        target_size=(28, 28),\n",
    "        batch_size=batch_size,\n",
    "        class_mode='categorical')\n",
    "\n",
    "k_inv = {v: k for k, v in label_names.items()}\n",
    "\n",
    "plt.figure(figsize=(16,10))\n",
    "\n",
    "batches = 0\n",
    "\n",
    "for x,y in test_generator:\n",
    "       \n",
    "        batches = batches + 1\n",
    "        y_hat = model_type_base.predict(x, verbose=0)\n",
    "        x = np.squeeze(x)\n",
    "        if batches <  5:\n",
    "            plt.subplot(1,4,batches)\n",
    "            plt.imshow(x)\n",
    "            plt.title(\"GT-{}, Pred-{}\".format(k_inv[np.argmax(y[0])], k_inv[np.argmax(y_hat[0])]))\n",
    "            \n",
    "        else:\n",
    "            break\n",
    "        \n",
    "        plt.axis('off')\n"
   ]
  },
  {
   "cell_type": "markdown",
   "id": "8d568f8f",
   "metadata": {},
   "source": [
    "## Data Augmented Model <a class=\"anchor\" id=\"typeA\"></a>\n",
    "### Training Augmented Model"
   ]
  },
  {
   "cell_type": "code",
   "execution_count": 141,
   "id": "cb05746b",
   "metadata": {},
   "outputs": [
    {
     "name": "stdout",
     "output_type": "stream",
     "text": [
      "Found 2219 validated image filenames belonging to 16 classes.\n",
      "Found 740 validated image filenames belonging to 16 classes.\n"
     ]
    }
   ],
   "source": [
    "train_datagen = ImageDataGenerator(rescale=1./255, data_format='channels_last',\n",
    "                                  rotation_range=15, width_shift_range=0.2,\n",
    "                                  height_shift_range=0.2)\n",
    "val_datagen = ImageDataGenerator(rescale=1./255, data_format='channels_last')\n",
    "\n",
    "batch_size = 32\n",
    "\n",
    "train_generator = train_datagen.flow_from_dataframe(\n",
    "        dataframe=train_data,\n",
    "        directory='./',\n",
    "        x_col=\"image_path\",\n",
    "        y_col=\"Type\",\n",
    "        target_size=(28, 28),\n",
    "        batch_size=batch_size,\n",
    "        class_mode='categorical')\n",
    "\n",
    "validation_generator = val_datagen.flow_from_dataframe(\n",
    "        dataframe=val_data,\n",
    "        directory='./',\n",
    "        x_col=\"image_path\",\n",
    "        y_col=\"Type\",\n",
    "        target_size=(28, 28),\n",
    "        batch_size=batch_size,\n",
    "        class_mode='categorical')"
   ]
  },
  {
   "cell_type": "markdown",
   "id": "30dc4417",
   "metadata": {},
   "source": [
    "### Setting Up Data Augmented Model"
   ]
  },
  {
   "cell_type": "code",
   "execution_count": 142,
   "id": "48b825df",
   "metadata": {},
   "outputs": [],
   "source": [
    "OUTPUT_CLASSES = 16\n",
    "model_type_aug = model(OUTPUT_CLASSES)"
   ]
  },
  {
   "cell_type": "markdown",
   "id": "c350a148",
   "metadata": {},
   "source": [
    "### Training Data Augmented Model"
   ]
  },
  {
   "cell_type": "code",
   "execution_count": 143,
   "id": "f8e47fc7",
   "metadata": {},
   "outputs": [
    {
     "name": "stdout",
     "output_type": "stream",
     "text": [
      "Epoch 1/100\n",
      "70/70 [==============================] - 11s 162ms/step - loss: 2.7174 - categorical_accuracy: 0.1703 - val_loss: 2.6254 - val_categorical_accuracy: 0.1811\n",
      "Epoch 2/100\n",
      "70/70 [==============================] - 11s 159ms/step - loss: 2.6250 - categorical_accuracy: 0.1951 - val_loss: 2.4783 - val_categorical_accuracy: 0.1932\n",
      "Epoch 3/100\n",
      "70/70 [==============================] - 11s 160ms/step - loss: 2.5141 - categorical_accuracy: 0.2204 - val_loss: 2.2685 - val_categorical_accuracy: 0.3014\n",
      "Epoch 4/100\n",
      "70/70 [==============================] - 11s 156ms/step - loss: 2.3779 - categorical_accuracy: 0.2717 - val_loss: 2.0000 - val_categorical_accuracy: 0.3595\n",
      "Epoch 5/100\n",
      "70/70 [==============================] - 11s 157ms/step - loss: 2.2338 - categorical_accuracy: 0.3114 - val_loss: 1.7956 - val_categorical_accuracy: 0.4797\n",
      "Epoch 6/100\n",
      "70/70 [==============================] - 11s 158ms/step - loss: 2.0921 - categorical_accuracy: 0.3475 - val_loss: 1.4215 - val_categorical_accuracy: 0.5703\n",
      "Epoch 7/100\n",
      "70/70 [==============================] - 12s 166ms/step - loss: 1.9250 - categorical_accuracy: 0.4182 - val_loss: 1.1671 - val_categorical_accuracy: 0.6986\n",
      "Epoch 8/100\n",
      "70/70 [==============================] - 12s 169ms/step - loss: 1.7014 - categorical_accuracy: 0.4953 - val_loss: 0.9770 - val_categorical_accuracy: 0.7608\n",
      "Epoch 9/100\n",
      "70/70 [==============================] - 11s 161ms/step - loss: 1.5016 - categorical_accuracy: 0.5498 - val_loss: 0.7712 - val_categorical_accuracy: 0.8027\n",
      "Epoch 10/100\n",
      "70/70 [==============================] - 11s 161ms/step - loss: 1.3964 - categorical_accuracy: 0.5836 - val_loss: 0.6503 - val_categorical_accuracy: 0.8284\n",
      "Epoch 11/100\n",
      "70/70 [==============================] - 11s 160ms/step - loss: 1.2823 - categorical_accuracy: 0.6242 - val_loss: 0.6515 - val_categorical_accuracy: 0.8419\n",
      "Epoch 12/100\n",
      "70/70 [==============================] - 12s 166ms/step - loss: 1.1964 - categorical_accuracy: 0.6377 - val_loss: 0.5680 - val_categorical_accuracy: 0.8365\n",
      "Epoch 13/100\n",
      "70/70 [==============================] - 12s 172ms/step - loss: 1.1291 - categorical_accuracy: 0.6724 - val_loss: 0.5776 - val_categorical_accuracy: 0.8662\n",
      "Epoch 14/100\n",
      "70/70 [==============================] - 12s 168ms/step - loss: 1.0688 - categorical_accuracy: 0.6949 - val_loss: 0.4558 - val_categorical_accuracy: 0.8919\n",
      "Epoch 15/100\n",
      "70/70 [==============================] - 12s 165ms/step - loss: 0.9862 - categorical_accuracy: 0.7116 - val_loss: 0.5517 - val_categorical_accuracy: 0.8486\n",
      "Epoch 16/100\n",
      "70/70 [==============================] - 11s 161ms/step - loss: 0.9347 - categorical_accuracy: 0.7206 - val_loss: 0.4264 - val_categorical_accuracy: 0.8905\n",
      "Epoch 17/100\n",
      "70/70 [==============================] - 12s 169ms/step - loss: 0.9303 - categorical_accuracy: 0.7296 - val_loss: 0.5276 - val_categorical_accuracy: 0.8527\n",
      "Epoch 18/100\n",
      "70/70 [==============================] - 12s 165ms/step - loss: 0.8341 - categorical_accuracy: 0.7589 - val_loss: 0.4322 - val_categorical_accuracy: 0.8905\n",
      "Epoch 19/100\n",
      "70/70 [==============================] - 11s 162ms/step - loss: 0.8210 - categorical_accuracy: 0.7639 - val_loss: 0.3750 - val_categorical_accuracy: 0.9081\n",
      "Epoch 20/100\n",
      "70/70 [==============================] - 11s 160ms/step - loss: 0.7866 - categorical_accuracy: 0.7810 - val_loss: 0.3393 - val_categorical_accuracy: 0.9284\n",
      "Epoch 21/100\n",
      "70/70 [==============================] - 11s 163ms/step - loss: 0.7546 - categorical_accuracy: 0.7814 - val_loss: 0.2971 - val_categorical_accuracy: 0.9446\n",
      "Epoch 22/100\n",
      "70/70 [==============================] - 12s 173ms/step - loss: 0.7365 - categorical_accuracy: 0.7977 - val_loss: 0.2844 - val_categorical_accuracy: 0.9473\n",
      "Epoch 23/100\n",
      "70/70 [==============================] - 11s 162ms/step - loss: 0.7117 - categorical_accuracy: 0.8004 - val_loss: 0.3032 - val_categorical_accuracy: 0.9365\n",
      "Epoch 24/100\n",
      "70/70 [==============================] - 12s 166ms/step - loss: 0.6978 - categorical_accuracy: 0.8026 - val_loss: 0.3826 - val_categorical_accuracy: 0.9095\n",
      "Epoch 25/100\n",
      "70/70 [==============================] - 12s 166ms/step - loss: 0.6513 - categorical_accuracy: 0.8143 - val_loss: 0.4013 - val_categorical_accuracy: 0.9108\n",
      "Epoch 26/100\n",
      "70/70 [==============================] - 11s 162ms/step - loss: 0.6600 - categorical_accuracy: 0.8121 - val_loss: 0.2972 - val_categorical_accuracy: 0.9432\n",
      "Epoch 27/100\n",
      "70/70 [==============================] - 11s 163ms/step - loss: 0.6296 - categorical_accuracy: 0.8283 - val_loss: 0.2944 - val_categorical_accuracy: 0.9419\n",
      "Epoch 28/100\n",
      "70/70 [==============================] - 12s 168ms/step - loss: 0.6174 - categorical_accuracy: 0.8382 - val_loss: 0.2906 - val_categorical_accuracy: 0.9459\n",
      "Epoch 29/100\n",
      "70/70 [==============================] - 11s 164ms/step - loss: 0.6032 - categorical_accuracy: 0.8233 - val_loss: 0.2547 - val_categorical_accuracy: 0.9649\n",
      "Epoch 30/100\n",
      "70/70 [==============================] - 12s 165ms/step - loss: 0.5869 - categorical_accuracy: 0.8436 - val_loss: 0.2557 - val_categorical_accuracy: 0.9662\n",
      "Epoch 31/100\n",
      "70/70 [==============================] - 12s 165ms/step - loss: 0.6115 - categorical_accuracy: 0.8355 - val_loss: 0.2700 - val_categorical_accuracy: 0.9486\n",
      "Epoch 32/100\n",
      "70/70 [==============================] - 11s 162ms/step - loss: 0.5280 - categorical_accuracy: 0.8635 - val_loss: 0.2612 - val_categorical_accuracy: 0.9514\n",
      "Epoch 33/100\n",
      "70/70 [==============================] - 12s 166ms/step - loss: 0.5583 - categorical_accuracy: 0.8544 - val_loss: 0.2323 - val_categorical_accuracy: 0.9649\n",
      "Epoch 34/100\n",
      "70/70 [==============================] - 11s 160ms/step - loss: 0.5596 - categorical_accuracy: 0.8508 - val_loss: 0.2642 - val_categorical_accuracy: 0.9541\n",
      "Epoch 35/100\n",
      "70/70 [==============================] - 12s 166ms/step - loss: 0.5502 - categorical_accuracy: 0.8689 - val_loss: 0.2505 - val_categorical_accuracy: 0.9541\n",
      "Epoch 36/100\n",
      "70/70 [==============================] - 11s 163ms/step - loss: 0.5140 - categorical_accuracy: 0.8770 - val_loss: 0.2223 - val_categorical_accuracy: 0.9703\n",
      "Epoch 37/100\n",
      "70/70 [==============================] - 11s 162ms/step - loss: 0.5474 - categorical_accuracy: 0.8621 - val_loss: 0.3052 - val_categorical_accuracy: 0.9541\n",
      "Epoch 38/100\n",
      "70/70 [==============================] - 11s 164ms/step - loss: 0.5055 - categorical_accuracy: 0.8725 - val_loss: 0.3105 - val_categorical_accuracy: 0.9514\n",
      "Epoch 39/100\n",
      "70/70 [==============================] - 11s 160ms/step - loss: 0.4900 - categorical_accuracy: 0.8770 - val_loss: 0.2443 - val_categorical_accuracy: 0.9676\n",
      "Epoch 40/100\n",
      "70/70 [==============================] - 12s 165ms/step - loss: 0.5049 - categorical_accuracy: 0.8738 - val_loss: 0.2470 - val_categorical_accuracy: 0.9568\n",
      "Epoch 41/100\n",
      "70/70 [==============================] - 11s 161ms/step - loss: 0.4665 - categorical_accuracy: 0.8851 - val_loss: 0.2383 - val_categorical_accuracy: 0.9554\n",
      "Epoch 42/100\n",
      "70/70 [==============================] - 11s 161ms/step - loss: 0.4654 - categorical_accuracy: 0.8878 - val_loss: 0.2337 - val_categorical_accuracy: 0.9689\n",
      "Epoch 43/100\n",
      "70/70 [==============================] - 11s 162ms/step - loss: 0.4727 - categorical_accuracy: 0.8788 - val_loss: 0.2484 - val_categorical_accuracy: 0.9459\n",
      "Epoch 44/100\n",
      "70/70 [==============================] - 11s 164ms/step - loss: 0.5025 - categorical_accuracy: 0.8774 - val_loss: 0.2106 - val_categorical_accuracy: 0.9676\n",
      "Epoch 45/100\n",
      "70/70 [==============================] - 11s 162ms/step - loss: 0.4510 - categorical_accuracy: 0.8945 - val_loss: 0.2222 - val_categorical_accuracy: 0.9649\n",
      "Epoch 46/100\n",
      "70/70 [==============================] - 11s 160ms/step - loss: 0.4526 - categorical_accuracy: 0.8878 - val_loss: 0.2442 - val_categorical_accuracy: 0.9568\n",
      "Epoch 47/100\n",
      "70/70 [==============================] - 12s 173ms/step - loss: 0.4800 - categorical_accuracy: 0.8869 - val_loss: 0.2242 - val_categorical_accuracy: 0.9662\n",
      "Epoch 48/100\n",
      "70/70 [==============================] - 12s 173ms/step - loss: 0.4429 - categorical_accuracy: 0.8878 - val_loss: 0.2465 - val_categorical_accuracy: 0.9676\n",
      "Epoch 49/100\n"
     ]
    },
    {
     "name": "stdout",
     "output_type": "stream",
     "text": [
      "70/70 [==============================] - 11s 163ms/step - loss: 0.4078 - categorical_accuracy: 0.9004 - val_loss: 0.2389 - val_categorical_accuracy: 0.9568\n",
      "Epoch 50/100\n",
      "70/70 [==============================] - 11s 162ms/step - loss: 0.3984 - categorical_accuracy: 0.9036 - val_loss: 0.2108 - val_categorical_accuracy: 0.9689\n",
      "Epoch 51/100\n",
      "70/70 [==============================] - 11s 161ms/step - loss: 0.3949 - categorical_accuracy: 0.9081 - val_loss: 0.2067 - val_categorical_accuracy: 0.9730\n",
      "Epoch 52/100\n",
      "70/70 [==============================] - 11s 160ms/step - loss: 0.4222 - categorical_accuracy: 0.9036 - val_loss: 0.2227 - val_categorical_accuracy: 0.9689\n",
      "Epoch 53/100\n",
      "70/70 [==============================] - 11s 162ms/step - loss: 0.3917 - categorical_accuracy: 0.9144 - val_loss: 0.2421 - val_categorical_accuracy: 0.9635\n",
      "Epoch 54/100\n",
      "70/70 [==============================] - 11s 162ms/step - loss: 0.3805 - categorical_accuracy: 0.9157 - val_loss: 0.2816 - val_categorical_accuracy: 0.9378\n",
      "Epoch 55/100\n",
      "70/70 [==============================] - 11s 162ms/step - loss: 0.3975 - categorical_accuracy: 0.9049 - val_loss: 0.2120 - val_categorical_accuracy: 0.9703\n",
      "Epoch 56/100\n",
      "70/70 [==============================] - 12s 167ms/step - loss: 0.3847 - categorical_accuracy: 0.9202 - val_loss: 0.2287 - val_categorical_accuracy: 0.9608\n",
      "Epoch 57/100\n",
      "70/70 [==============================] - 11s 162ms/step - loss: 0.4019 - categorical_accuracy: 0.9045 - val_loss: 0.2503 - val_categorical_accuracy: 0.9500\n",
      "Epoch 58/100\n",
      "70/70 [==============================] - 11s 161ms/step - loss: 0.3734 - categorical_accuracy: 0.9175 - val_loss: 0.2519 - val_categorical_accuracy: 0.9486\n",
      "Epoch 59/100\n",
      "70/70 [==============================] - 12s 167ms/step - loss: 0.3807 - categorical_accuracy: 0.9162 - val_loss: 0.1964 - val_categorical_accuracy: 0.9730\n",
      "Epoch 60/100\n",
      "70/70 [==============================] - 12s 169ms/step - loss: 0.3435 - categorical_accuracy: 0.9216 - val_loss: 0.2073 - val_categorical_accuracy: 0.9716\n",
      "Epoch 61/100\n",
      "70/70 [==============================] - 11s 162ms/step - loss: 0.3865 - categorical_accuracy: 0.9063 - val_loss: 0.1914 - val_categorical_accuracy: 0.9716\n",
      "Epoch 62/100\n",
      "70/70 [==============================] - 12s 165ms/step - loss: 0.3626 - categorical_accuracy: 0.9189 - val_loss: 0.2191 - val_categorical_accuracy: 0.9649\n",
      "Epoch 63/100\n",
      "70/70 [==============================] - 12s 171ms/step - loss: 0.3642 - categorical_accuracy: 0.9148 - val_loss: 0.2344 - val_categorical_accuracy: 0.9662\n",
      "Epoch 64/100\n",
      "70/70 [==============================] - 11s 161ms/step - loss: 0.3320 - categorical_accuracy: 0.9311 - val_loss: 0.1995 - val_categorical_accuracy: 0.9730\n",
      "Epoch 65/100\n",
      "70/70 [==============================] - 11s 160ms/step - loss: 0.3427 - categorical_accuracy: 0.9274 - val_loss: 0.2146 - val_categorical_accuracy: 0.9716\n",
      "Epoch 66/100\n",
      "70/70 [==============================] - 11s 163ms/step - loss: 0.3367 - categorical_accuracy: 0.9234 - val_loss: 0.2295 - val_categorical_accuracy: 0.9676\n",
      "Epoch 67/100\n",
      "70/70 [==============================] - 11s 156ms/step - loss: 0.3437 - categorical_accuracy: 0.9207 - val_loss: 0.1964 - val_categorical_accuracy: 0.9784\n",
      "Epoch 68/100\n",
      "70/70 [==============================] - 11s 162ms/step - loss: 0.3320 - categorical_accuracy: 0.9428 - val_loss: 0.1774 - val_categorical_accuracy: 0.9784\n",
      "Epoch 69/100\n",
      "70/70 [==============================] - 11s 162ms/step - loss: 0.3480 - categorical_accuracy: 0.9193 - val_loss: 0.2622 - val_categorical_accuracy: 0.9527\n",
      "Epoch 70/100\n",
      "70/70 [==============================] - 11s 157ms/step - loss: 0.3257 - categorical_accuracy: 0.9320 - val_loss: 0.1890 - val_categorical_accuracy: 0.9770\n",
      "Epoch 71/100\n",
      "70/70 [==============================] - 11s 160ms/step - loss: 0.3213 - categorical_accuracy: 0.9301 - val_loss: 0.1756 - val_categorical_accuracy: 0.9811\n",
      "Epoch 72/100\n",
      "70/70 [==============================] - 11s 158ms/step - loss: 0.3021 - categorical_accuracy: 0.9405 - val_loss: 0.2021 - val_categorical_accuracy: 0.9703\n",
      "Epoch 73/100\n",
      "70/70 [==============================] - 11s 160ms/step - loss: 0.3277 - categorical_accuracy: 0.9297 - val_loss: 0.1951 - val_categorical_accuracy: 0.9716\n",
      "Epoch 74/100\n",
      "70/70 [==============================] - 11s 158ms/step - loss: 0.3327 - categorical_accuracy: 0.9229 - val_loss: 0.2239 - val_categorical_accuracy: 0.9622\n",
      "Epoch 75/100\n",
      "70/70 [==============================] - 11s 158ms/step - loss: 0.3215 - categorical_accuracy: 0.9279 - val_loss: 0.2014 - val_categorical_accuracy: 0.9743\n",
      "Epoch 76/100\n",
      "70/70 [==============================] - 11s 160ms/step - loss: 0.2911 - categorical_accuracy: 0.9365 - val_loss: 0.2071 - val_categorical_accuracy: 0.9689\n",
      "Epoch 77/100\n",
      "70/70 [==============================] - 11s 160ms/step - loss: 0.3105 - categorical_accuracy: 0.9333 - val_loss: 0.1808 - val_categorical_accuracy: 0.9757\n",
      "Epoch 78/100\n",
      "70/70 [==============================] - 12s 173ms/step - loss: 0.3323 - categorical_accuracy: 0.9292 - val_loss: 0.1732 - val_categorical_accuracy: 0.9784\n",
      "Epoch 79/100\n",
      "70/70 [==============================] - 12s 165ms/step - loss: 0.3346 - categorical_accuracy: 0.9320 - val_loss: 0.1968 - val_categorical_accuracy: 0.9716\n",
      "Epoch 80/100\n",
      "70/70 [==============================] - 11s 162ms/step - loss: 0.3021 - categorical_accuracy: 0.9392 - val_loss: 0.1900 - val_categorical_accuracy: 0.9743\n",
      "Epoch 81/100\n",
      "70/70 [==============================] - 11s 161ms/step - loss: 0.3270 - categorical_accuracy: 0.9347 - val_loss: 0.1944 - val_categorical_accuracy: 0.9757\n",
      "Epoch 82/100\n",
      "70/70 [==============================] - 12s 176ms/step - loss: 0.3063 - categorical_accuracy: 0.9338 - val_loss: 0.2334 - val_categorical_accuracy: 0.9649\n",
      "Epoch 83/100\n",
      "70/70 [==============================] - 13s 181ms/step - loss: 0.2948 - categorical_accuracy: 0.9423 - val_loss: 0.1753 - val_categorical_accuracy: 0.9770\n",
      "Epoch 84/100\n",
      "70/70 [==============================] - 13s 183ms/step - loss: 0.2996 - categorical_accuracy: 0.9428 - val_loss: 0.1829 - val_categorical_accuracy: 0.9770\n",
      "Epoch 85/100\n",
      "70/70 [==============================] - 11s 163ms/step - loss: 0.3020 - categorical_accuracy: 0.9387 - val_loss: 0.2009 - val_categorical_accuracy: 0.9757\n",
      "Epoch 86/100\n",
      "70/70 [==============================] - 11s 164ms/step - loss: 0.3248 - categorical_accuracy: 0.9347 - val_loss: 0.2107 - val_categorical_accuracy: 0.9622\n",
      "Epoch 87/100\n",
      "70/70 [==============================] - 12s 167ms/step - loss: 0.2795 - categorical_accuracy: 0.9432 - val_loss: 0.2017 - val_categorical_accuracy: 0.9689\n",
      "Epoch 88/100\n",
      "70/70 [==============================] - 12s 165ms/step - loss: 0.2963 - categorical_accuracy: 0.9356 - val_loss: 0.2163 - val_categorical_accuracy: 0.9784\n",
      "Epoch 89/100\n",
      "70/70 [==============================] - 11s 162ms/step - loss: 0.2770 - categorical_accuracy: 0.9464 - val_loss: 0.1772 - val_categorical_accuracy: 0.9851\n",
      "Epoch 90/100\n",
      "70/70 [==============================] - 11s 164ms/step - loss: 0.2740 - categorical_accuracy: 0.9414 - val_loss: 0.1736 - val_categorical_accuracy: 0.9797\n",
      "Epoch 91/100\n",
      "70/70 [==============================] - 12s 170ms/step - loss: 0.2823 - categorical_accuracy: 0.9423 - val_loss: 0.1751 - val_categorical_accuracy: 0.9784\n",
      "Epoch 92/100\n",
      "70/70 [==============================] - 12s 165ms/step - loss: 0.2760 - categorical_accuracy: 0.9459 - val_loss: 0.1898 - val_categorical_accuracy: 0.9743\n",
      "Epoch 93/100\n",
      "70/70 [==============================] - 11s 163ms/step - loss: 0.2780 - categorical_accuracy: 0.9473 - val_loss: 0.1862 - val_categorical_accuracy: 0.9784\n",
      "Epoch 94/100\n",
      "70/70 [==============================] - 12s 165ms/step - loss: 0.2788 - categorical_accuracy: 0.9437 - val_loss: 0.1805 - val_categorical_accuracy: 0.9770\n",
      "Epoch 95/100\n",
      "70/70 [==============================] - 11s 163ms/step - loss: 0.2687 - categorical_accuracy: 0.9491 - val_loss: 0.2058 - val_categorical_accuracy: 0.9622\n",
      "Epoch 96/100\n",
      "70/70 [==============================] - 11s 162ms/step - loss: 0.2744 - categorical_accuracy: 0.9437 - val_loss: 0.1872 - val_categorical_accuracy: 0.9743\n",
      "Epoch 97/100\n"
     ]
    },
    {
     "name": "stdout",
     "output_type": "stream",
     "text": [
      "70/70 [==============================] - 12s 167ms/step - loss: 0.2692 - categorical_accuracy: 0.9482 - val_loss: 0.1876 - val_categorical_accuracy: 0.9743\n",
      "Epoch 98/100\n",
      "70/70 [==============================] - 11s 162ms/step - loss: 0.2721 - categorical_accuracy: 0.9387 - val_loss: 0.1921 - val_categorical_accuracy: 0.9743\n",
      "Epoch 99/100\n",
      "70/70 [==============================] - 11s 158ms/step - loss: 0.2752 - categorical_accuracy: 0.9504 - val_loss: 0.1838 - val_categorical_accuracy: 0.9743\n",
      "Epoch 100/100\n",
      "70/70 [==============================] - 11s 161ms/step - loss: 0.2738 - categorical_accuracy: 0.9446 - val_loss: 0.1599 - val_categorical_accuracy: 0.9797\n"
     ]
    }
   ],
   "source": [
    "sgd = tf.keras.optimizers.SGD(lr=0.01, decay=1e-6, momentum=0.9, nesterov=True)\n",
    "model_type_aug.compile(optimizer=sgd,\n",
    "              loss=tf.keras.losses.CategoricalCrossentropy(from_logits=False),\n",
    "              metrics=['categorical_accuracy'])\n",
    "\n",
    "history = model_type_aug.fit_generator(train_generator, \n",
    "                                    validation_data = validation_generator, \n",
    "                                    epochs=100, verbose=1)"
   ]
  },
  {
   "cell_type": "code",
   "execution_count": 145,
   "id": "e275dc8a",
   "metadata": {},
   "outputs": [
    {
     "data": {
      "image/png": "[encoded data removed]",
      "text/plain": [
       "<Figure size 720x360 with 2 Axes>"
      ]
     },
     "metadata": {
      "needs_background": "light"
     },
     "output_type": "display_data"
    }
   ],
   "source": [
    "plt.figure(figsize=(10,5))\n",
    "plt.subplot(1,2,1)\n",
    "plt.plot(history.history['loss'], 'r--')\n",
    "plt.plot(history.history['val_loss'], 'b--')\n",
    "plt.xlabel(\"epochs\")\n",
    "plt.ylabel(\"Loss\")\n",
    "plt.legend(['train', 'val'], loc='upper left')\n",
    "\n",
    "plt.subplot(1,2,2)\n",
    "plt.plot(history.history['categorical_accuracy'], 'r--')\n",
    "plt.plot(history.history['val_categorical_accuracy'], 'b--')\n",
    "plt.xlabel(\"epochs\")\n",
    "plt.ylabel(\"Accuracy\")\n",
    "plt.legend(['train', 'val'], loc='upper left')\n",
    "plt.show()\n",
    "\n",
    "plt.show()"
   ]
  },
  {
   "cell_type": "markdown",
   "id": "a6801489",
   "metadata": {},
   "source": [
    "### Testing Data Augmented Model <a class=\"anchor\" id=\"ttpy\"></a>"
   ]
  },
  {
   "cell_type": "code",
   "execution_count": 144,
   "id": "050404d7",
   "metadata": {},
   "outputs": [
    {
     "name": "stdout",
     "output_type": "stream",
     "text": [
      "Found 740 validated image filenames belonging to 16 classes.\n"
     ]
    },
    {
     "data": {
      "image/png": "[encoded data removed]",
      "text/plain": [
       "<Figure size 1152x720 with 4 Axes>"
      ]
     },
     "metadata": {
      "needs_background": "light"
     },
     "output_type": "display_data"
    }
   ],
   "source": [
    "test_datagen = ImageDataGenerator(rescale=1./255, data_format='channels_last')\n",
    "batch_size = 1\n",
    "\n",
    "test_generator = test_datagen.flow_from_dataframe(\n",
    "        dataframe=test_data,\n",
    "        directory='./',\n",
    "        x_col=\"image_path\",\n",
    "        y_col=\"Type\",\n",
    "        target_size=(28, 28),\n",
    "        batch_size=batch_size,\n",
    "        class_mode='categorical')\n",
    "\n",
    "k_inv = {v: k for k, v in label_names.items()}\n",
    "\n",
    "plt.figure(figsize=(16,10))\n",
    "\n",
    "batches = 0\n",
    "\n",
    "for x,y in test_generator:\n",
    "       \n",
    "        batches = batches + 1\n",
    "        y_hat = model_type_aug.predict(x, verbose=0)\n",
    "        x = np.squeeze(x)\n",
    "        if batches <  5:\n",
    "            plt.subplot(1,4,batches)\n",
    "            plt.imshow(x)\n",
    "            plt.title(\"GT-{}, Pred-{}\".format(k_inv[np.argmax(y[0])], k_inv[np.argmax(y_hat[0])]))\n",
    "            \n",
    "        else:\n",
    "            break\n",
    "        \n",
    "        plt.axis('off')\n"
   ]
  },
  {
   "attachments": {},
   "cell_type": "markdown",
   "id": "c04665b2",
   "metadata": {},
   "source": [
    "# Ultimate Judgement\n",
    "The above results have illustrated that using a convolutional neural network to an accurate way to train a model to classify road signs based on their shape and type. The results have also shown through the differing results of the model with augmented data and one without, that while data augmenting can be useful in increasing the amount of data available when the original dataset was minimal it also increases the risk of overfitting the model. Therefore for this reason when performing classification on the data gathered from the real world the base model is going to be used in classifying it as it was shown it have the best accuracy score in both classifying shape and type and also limited the risk of overfitting the model."
   ]
  },
  {
   "cell_type": "markdown",
   "id": "625be620",
   "metadata": {},
   "source": [
    "# Saving Models"
   ]
  },
  {
   "cell_type": "code",
   "execution_count": 146,
   "id": "9ff3c390",
   "metadata": {},
   "outputs": [
    {
     "name": "stdout",
     "output_type": "stream",
     "text": [
      "WARNING:tensorflow:From /Users/luke/opt/anaconda3/envs/py36/lib/python3.6/site-packages/tensorflow_core/python/ops/resource_variable_ops.py:1781: calling BaseResourceVariable.__init__ (from tensorflow.python.ops.resource_variable_ops) with constraint is deprecated and will be removed in a future version.\n",
      "Instructions for updating:\n",
      "If using Keras pass *_constraint arguments to layers.\n",
      "INFO:tensorflow:Assets written to: saved_model/model_shape_base/assets\n",
      "INFO:tensorflow:Assets written to: saved_model/model_shape_aug/assets\n",
      "INFO:tensorflow:Assets written to: saved_model/model_type_base/assets\n",
      "INFO:tensorflow:Assets written to: saved_model/model_type_aug/assets\n"
     ]
    }
   ],
   "source": [
    "model_shape_base.save(\"saved_model/model_shape_base\")\n",
    "model_shape_aug.save(\"saved_model/model_shape_aug\")\n",
    "model_type_base.save(\"saved_model/model_type_base\")\n",
    "model_type_aug.save(\"saved_model/model_type_aug\")"
   ]
  },
  {
   "cell_type": "markdown",
   "id": "fae1dff4",
   "metadata": {},
   "source": [
    "# Independent Analysis of Real World Data <a class=\"anchor\" id=\"test\"></a>\n",
    "After the evaluation of the models in the previous section, we are going to use the model_shape_base and model_type_base to classify the unseen data from the real world. We are using these models as they have shown to have the best accuracy and loss scores without the risk of overfitting that the data augmeted models had"
   ]
  },
  {
   "cell_type": "markdown",
   "id": "d4bb5e85",
   "metadata": {},
   "source": [
    "### Importing Data"
   ]
  },
  {
   "cell_type": "code",
   "execution_count": 157,
   "id": "e184b1d9",
   "metadata": {},
   "outputs": [],
   "source": [
    "independent_shape = []\n",
    "\n",
    "for filepath in glob.glob('./RealWorld_Data/*/*/*.png', recursive=True): #assuming gif\n",
    "    filename = filepath.split(\"/\")[-1]\n",
    "    shape = filepath.split(\"/\")[-3]\n",
    "    sign_type = filepath.split(\"/\")[-2]\n",
    "    label = filename.split(\"/\")[0]\n",
    "    independent_shape.append((filepath, shape, sign_type,filename))"
   ]
  },
  {
   "cell_type": "code",
   "execution_count": 158,
   "id": "6e00e28f",
   "metadata": {},
   "outputs": [],
   "source": [
    "independent_data = pd.DataFrame(data=independent_shape, columns=['image_path', 'Shape', 'Type','Label'])"
   ]
  },
  {
   "cell_type": "code",
   "execution_count": 159,
   "id": "dff2ef99",
   "metadata": {},
   "outputs": [
    {
     "data": {
      "text/html": [
       "<div>\n",
       "<style scoped>\n",
       "    .dataframe tbody tr th:only-of-type {\n",
       "        vertical-align: middle;\n",
       "    }\n",
       "\n",
       "    .dataframe tbody tr th {\n",
       "        vertical-align: top;\n",
       "    }\n",
       "\n",
       "    .dataframe thead th {\n",
       "        text-align: right;\n",
       "    }\n",
       "</style>\n",
       "<table border=\"1\" class=\"dataframe\">\n",
       "  <thead>\n",
       "    <tr style=\"text-align: right;\">\n",
       "      <th></th>\n",
       "      <th>image_path</th>\n",
       "      <th>Shape</th>\n",
       "      <th>Type</th>\n",
       "      <th>Label</th>\n",
       "    </tr>\n",
       "  </thead>\n",
       "  <tbody>\n",
       "    <tr>\n",
       "      <th>0</th>\n",
       "      <td>./RealWorld_Data/diamond/traveldirection/image...</td>\n",
       "      <td>diamond</td>\n",
       "      <td>traveldirection</td>\n",
       "      <td>image7.png</td>\n",
       "    </tr>\n",
       "    <tr>\n",
       "      <th>1</th>\n",
       "      <td>./RealWorld_Data/diamond/giveway/image6.png</td>\n",
       "      <td>diamond</td>\n",
       "      <td>giveway</td>\n",
       "      <td>image6.png</td>\n",
       "    </tr>\n",
       "    <tr>\n",
       "      <th>2</th>\n",
       "      <td>./RealWorld_Data/diamond/warning/image17.png</td>\n",
       "      <td>diamond</td>\n",
       "      <td>warning</td>\n",
       "      <td>image17.png</td>\n",
       "    </tr>\n",
       "    <tr>\n",
       "      <th>3</th>\n",
       "      <td>./RealWorld_Data/diamond/bicycle/image16.png</td>\n",
       "      <td>diamond</td>\n",
       "      <td>bicycle</td>\n",
       "      <td>image16.png</td>\n",
       "    </tr>\n",
       "    <tr>\n",
       "      <th>4</th>\n",
       "      <td>./RealWorld_Data/hex/stop/image05.png</td>\n",
       "      <td>hex</td>\n",
       "      <td>stop</td>\n",
       "      <td>image05.png</td>\n",
       "    </tr>\n",
       "    <tr>\n",
       "      <th>5</th>\n",
       "      <td>./RealWorld_Data/square/traveldirection/image8...</td>\n",
       "      <td>square</td>\n",
       "      <td>traveldirection</td>\n",
       "      <td>image8.png</td>\n",
       "    </tr>\n",
       "    <tr>\n",
       "      <th>6</th>\n",
       "      <td>./RealWorld_Data/square/traveldirection/image9...</td>\n",
       "      <td>square</td>\n",
       "      <td>traveldirection</td>\n",
       "      <td>image9.png</td>\n",
       "    </tr>\n",
       "    <tr>\n",
       "      <th>7</th>\n",
       "      <td>./RealWorld_Data/square/traveldirection/image1...</td>\n",
       "      <td>square</td>\n",
       "      <td>traveldirection</td>\n",
       "      <td>image11.png</td>\n",
       "    </tr>\n",
       "    <tr>\n",
       "      <th>8</th>\n",
       "      <td>./RealWorld_Data/square/traveldirection/image1...</td>\n",
       "      <td>square</td>\n",
       "      <td>traveldirection</td>\n",
       "      <td>image10.png</td>\n",
       "    </tr>\n",
       "    <tr>\n",
       "      <th>9</th>\n",
       "      <td>./RealWorld_Data/square/speed/image01.png</td>\n",
       "      <td>square</td>\n",
       "      <td>speed</td>\n",
       "      <td>image01.png</td>\n",
       "    </tr>\n",
       "    <tr>\n",
       "      <th>10</th>\n",
       "      <td>./RealWorld_Data/square/speed/image15.png</td>\n",
       "      <td>square</td>\n",
       "      <td>speed</td>\n",
       "      <td>image15.png</td>\n",
       "    </tr>\n",
       "    <tr>\n",
       "      <th>11</th>\n",
       "      <td>./RealWorld_Data/square/noentry/image13.png</td>\n",
       "      <td>square</td>\n",
       "      <td>noentry</td>\n",
       "      <td>image13.png</td>\n",
       "    </tr>\n",
       "    <tr>\n",
       "      <th>12</th>\n",
       "      <td>./RealWorld_Data/square/noentry/image3.png</td>\n",
       "      <td>square</td>\n",
       "      <td>noentry</td>\n",
       "      <td>image3.png</td>\n",
       "    </tr>\n",
       "    <tr>\n",
       "      <th>13</th>\n",
       "      <td>./RealWorld_Data/square/trafficdirective/image...</td>\n",
       "      <td>square</td>\n",
       "      <td>trafficdirective</td>\n",
       "      <td>image14.png</td>\n",
       "    </tr>\n",
       "    <tr>\n",
       "      <th>14</th>\n",
       "      <td>./RealWorld_Data/triangle/roundabout/image12.png</td>\n",
       "      <td>triangle</td>\n",
       "      <td>roundabout</td>\n",
       "      <td>image12.png</td>\n",
       "    </tr>\n",
       "    <tr>\n",
       "      <th>15</th>\n",
       "      <td>./RealWorld_Data/triangle/giveway/image4.png</td>\n",
       "      <td>triangle</td>\n",
       "      <td>giveway</td>\n",
       "      <td>image4.png</td>\n",
       "    </tr>\n",
       "    <tr>\n",
       "      <th>16</th>\n",
       "      <td>./RealWorld_Data/round/stop/image02.png</td>\n",
       "      <td>round</td>\n",
       "      <td>stop</td>\n",
       "      <td>image02.png</td>\n",
       "    </tr>\n",
       "  </tbody>\n",
       "</table>\n",
       "</div>"
      ],
      "text/plain": [
       "                                           image_path     Shape  \\\n",
       "0   ./RealWorld_Data/diamond/traveldirection/image...   diamond   \n",
       "1         ./RealWorld_Data/diamond/giveway/image6.png   diamond   \n",
       "2        ./RealWorld_Data/diamond/warning/image17.png   diamond   \n",
       "3        ./RealWorld_Data/diamond/bicycle/image16.png   diamond   \n",
       "4               ./RealWorld_Data/hex/stop/image05.png       hex   \n",
       "5   ./RealWorld_Data/square/traveldirection/image8...    square   \n",
       "6   ./RealWorld_Data/square/traveldirection/image9...    square   \n",
       "7   ./RealWorld_Data/square/traveldirection/image1...    square   \n",
       "8   ./RealWorld_Data/square/traveldirection/image1...    square   \n",
       "9           ./RealWorld_Data/square/speed/image01.png    square   \n",
       "10          ./RealWorld_Data/square/speed/image15.png    square   \n",
       "11        ./RealWorld_Data/square/noentry/image13.png    square   \n",
       "12         ./RealWorld_Data/square/noentry/image3.png    square   \n",
       "13  ./RealWorld_Data/square/trafficdirective/image...    square   \n",
       "14   ./RealWorld_Data/triangle/roundabout/image12.png  triangle   \n",
       "15       ./RealWorld_Data/triangle/giveway/image4.png  triangle   \n",
       "16            ./RealWorld_Data/round/stop/image02.png     round   \n",
       "\n",
       "                Type        Label  \n",
       "0    traveldirection   image7.png  \n",
       "1            giveway   image6.png  \n",
       "2            warning  image17.png  \n",
       "3            bicycle  image16.png  \n",
       "4               stop  image05.png  \n",
       "5    traveldirection   image8.png  \n",
       "6    traveldirection   image9.png  \n",
       "7    traveldirection  image11.png  \n",
       "8    traveldirection  image10.png  \n",
       "9              speed  image01.png  \n",
       "10             speed  image15.png  \n",
       "11           noentry  image13.png  \n",
       "12           noentry   image3.png  \n",
       "13  trafficdirective  image14.png  \n",
       "14        roundabout  image12.png  \n",
       "15           giveway   image4.png  \n",
       "16              stop  image02.png  "
      ]
     },
     "execution_count": 159,
     "metadata": {},
     "output_type": "execute_result"
    }
   ],
   "source": [
    "independent_data"
   ]
  },
  {
   "cell_type": "code",
   "execution_count": 160,
   "id": "953dc112",
   "metadata": {},
   "outputs": [
    {
     "data": {
      "image/png": "[encoded data removed]",
      "text/plain": [
       "<Figure size 1152x288 with 4 Axes>"
      ]
     },
     "metadata": {
      "needs_background": "light"
     },
     "output_type": "display_data"
    }
   ],
   "source": [
    "r_inx = np.random.choice(10, 4)\n",
    "rand_data = independent_data.loc[r_inx,'image_path']\n",
    "\n",
    "plt.figure(figsize=(16,4))\n",
    "for i, image_path in enumerate(rand_data):\n",
    "    im = np.asarray(Image.open(image_path))\n",
    "    plt.subplot(1,4,i+1)\n",
    "    plt.imshow(im,cmap='gray')\n",
    "    plt.axis('off')\n",
    "    \n",
    "plt.show()"
   ]
  },
  {
   "cell_type": "markdown",
   "id": "4df4a7ea",
   "metadata": {},
   "source": [
    "### Testing The Unseen Data With Shape Classifying Model"
   ]
  },
  {
   "cell_type": "code",
   "execution_count": 161,
   "id": "cc87fa64",
   "metadata": {},
   "outputs": [
    {
     "name": "stdout",
     "output_type": "stream",
     "text": [
      "Found 17 validated image filenames belonging to 5 classes.\n"
     ]
    },
    {
     "data": {
      "image/png": "[encoded data removed]",
      "text/plain": [
       "<Figure size 1152x720 with 4 Axes>"
      ]
     },
     "metadata": {
      "needs_background": "light"
     },
     "output_type": "display_data"
    }
   ],
   "source": [
    "test_datagen = ImageDataGenerator(rescale=1./255, data_format='channels_last')\n",
    "batch_size = 1\n",
    "test_generator = test_datagen.flow_from_dataframe(\n",
    "        dataframe= independent_data,\n",
    "        directory='./',\n",
    "        x_col=\"image_path\",\n",
    "        y_col = \"Shape\",\n",
    "        target_size=(28, 28),\n",
    "        batch_size=batch_size,\n",
    "        class_mode='categorical')\n",
    "\n",
    "d_inv = {v: k for k, v in d.items()}\n",
    "\n",
    "plt.figure(figsize=(16,10))\n",
    "\n",
    "batches = 0\n",
    "\n",
    "for x,y in test_generator:\n",
    "       \n",
    "        batches = batches + 1\n",
    "        y_hat = model_shape_base.predict(x, verbose=0)\n",
    "        x = np.squeeze(x)\n",
    "        if batches <  5:\n",
    "            plt.subplot(1,4,batches)\n",
    "            plt.imshow(x)\n",
    "            \n",
    "            plt.imshow(x)\n",
    "            plt.title(\"GT-{}, Pred-{}\".format(d_inv[np.argmax(y[0])], d_inv[np.argmax(y_hat[0])]))\n",
    "            \n",
    "        else:\n",
    "            break\n",
    "        \n",
    "        plt.axis('off')"
   ]
  },
  {
   "cell_type": "markdown",
   "id": "766141b6",
   "metadata": {},
   "source": [
    "### Testing The Unseen Data With Type Classifying Model"
   ]
  },
  {
   "cell_type": "code",
   "execution_count": 175,
   "id": "fe6f2d7f",
   "metadata": {},
   "outputs": [
    {
     "name": "stdout",
     "output_type": "stream",
     "text": [
      "Found 17 validated image filenames belonging to 9 classes.\n"
     ]
    },
    {
     "data": {
      "image/png": "[encoded data removed]",
      "text/plain": [
       "<Figure size 1152x720 with 4 Axes>"
      ]
     },
     "metadata": {
      "needs_background": "light"
     },
     "output_type": "display_data"
    }
   ],
   "source": [
    "type_names = {'bicycle':0,'giveway':1, 'noentry' : 2,'roundabout':3,'speed': 4,'stop' : 5,'trafficdirective':6,\n",
    "              'traveldirection':7,'warning':8}\n",
    "test_datagen = ImageDataGenerator(rescale=1./255, data_format='channels_last')\n",
    "batch_size = 1\n",
    "test_generator = test_datagen.flow_from_dataframe(\n",
    "        dataframe=independent_data,\n",
    "        directory='./',\n",
    "        x_col=\"image_path\",\n",
    "        y_col = \"Type\",\n",
    "        target_size=(28, 28),\n",
    "        batch_size=batch_size,\n",
    "        class_mode='categorical')\n",
    "\n",
    "k_inv = {v: k for k, v in type_names.items()}\n",
    "pred_inv = {v: k for k, v in label_names.items()}\n",
    "\n",
    "\n",
    "plt.figure(figsize=(16,10))\n",
    "\n",
    "batches = 0\n",
    "\n",
    "for x,y in test_generator:\n",
    "       \n",
    "        batches = batches + 1\n",
    "        y_hat = model_type_base.predict(x, verbose=0)\n",
    "        x = np.squeeze(x)\n",
    "        if batches <  5:\n",
    "            plt.subplot(1,4,batches)\n",
    "            plt.imshow(x)\n",
    "            plt.title(\"GT-{}, Pred-{}\".format(k_inv[np.argmax(y[0])], pred_inv[np.argmax(y_hat[0])]))\n",
    "            \n",
    "        else:\n",
    "            break\n",
    "        \n",
    "        plt.axis('off')"
   ]
  },
  {
   "attachments": {},
   "cell_type": "markdown",
   "id": "da59f96c",
   "metadata": {},
   "source": [
    "## Results\n",
    "Overall while the model classifying type may not be as effective in modelling unseen data as it was against the data it was trained with due to the different sign types having different shapes in different parts of the world. The model classifying the shape of the model was accurate and can be used to accurately classify signs according to shapes on unseen data."
   ]
  },
  {
   "attachments": {},
   "cell_type": "markdown",
   "id": "02932ec9",
   "metadata": {},
   "source": [
    "# References  <a class=\"anchor\" id=\"ref\"></a>\n",
    "- Learn Data Sci 2022 Convolutional Neural Networks — Image Classification w. Keras Available at:https://www.learndatasci.com/tutorials/convolutional-neural-networks-image-classification/  [Accessed 29 May]\n",
    "- Board Infinity 2022 What do you mean by Convolutional Neural Network? [online] Available at:https://discuss.boardinfinity.com/t/what-do-you-mean-by-convolutional-neural-network/8533 [Accessed 29 May]\n",
    "- Driver Knowledge Tests 2022 Road signs Available at: https://www.driverknowledgetests.com/resources/road-signs/  [Accessed 29 May]\n",
    "- VicRoads 2022 Road signs Available at:https://www.vicroads.vic.gov.au/safety-and-road-rules/road-rules/a-to-z-of-road-rules/road-signs [Accessed 29 May]"
   ]
  },
  {
   "cell_type": "code",
   "execution_count": null,
   "id": "99db707d",
   "metadata": {},
   "outputs": [],
   "source": []
  }
 ],
 "metadata": {
  "kernelspec": {
   "display_name": "Python 3",
   "language": "python",
   "name": "python3"
  },
  "language_info": {
   "codemirror_mode": {
    "name": "ipython",
    "version": 3
   },
   "file_extension": ".py",
   "mimetype": "text/x-python",
   "name": "python",
   "nbconvert_exporter": "python",
   "pygments_lexer": "ipython3",
   "version": "3.6.13"
  }
 },
 "nbformat": 4,
 "nbformat_minor": 5
}
